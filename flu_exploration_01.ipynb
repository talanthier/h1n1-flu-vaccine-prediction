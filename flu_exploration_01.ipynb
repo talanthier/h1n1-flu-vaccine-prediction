{
 "cells": [
  {
   "cell_type": "markdown",
   "id": "65489fd8",
   "metadata": {},
   "source": [
    "# H1N1 and Flu Vaccine Prediction: Data Exploration"
   ]
  },
  {
   "cell_type": "code",
   "execution_count": 9,
   "id": "4bed3a39",
   "metadata": {},
   "outputs": [],
   "source": [
    "import numpy as np\n",
    "import pandas as pd\n",
    "import matplotlib.pyplot as plt\n",
    "import seaborn as sns"
   ]
  },
  {
   "cell_type": "markdown",
   "id": "4705f6ce",
   "metadata": {},
   "source": [
    "## Reading in Data"
   ]
  },
  {
   "cell_type": "code",
   "execution_count": 10,
   "id": "1d6d71a3",
   "metadata": {},
   "outputs": [],
   "source": [
    "X = pd.read_csv('data/training_set_features.csv')\n",
    "y = pd.read_csv('data/training_set_labels.csv')"
   ]
  },
  {
   "cell_type": "code",
   "execution_count": 11,
   "id": "ab4d4336",
   "metadata": {},
   "outputs": [],
   "source": [
    "data = pd.concat([X,y.drop('respondent_id', axis = 1)], axis = 1)"
   ]
  },
  {
   "cell_type": "markdown",
   "id": "d83365b9",
   "metadata": {},
   "source": [
    "## EDA"
   ]
  },
  {
   "cell_type": "markdown",
   "id": "0d656536",
   "metadata": {},
   "source": [
    "From the problem description, we have the following features in our dataset:\n",
    "<ul>\n",
    "<li><code>h1n1_concern</code> - Level of concern about the H1N1 flu.<ul>\n",
    "<li><code>0</code> = Not at all concerned; <code>1</code> = Not very concerned; <code>2</code> = Somewhat concerned; <code>3</code> = Very concerned.</li>\n",
    "</ul>\n",
    "</li>\n",
    "<li><code>h1n1_knowledge</code> - Level of knowledge about H1N1 flu.<ul>\n",
    "<li><code>0</code> = No knowledge; <code>1</code> = A little knowledge; <code>2</code> = A lot of knowledge.</li>\n",
    "</ul>\n",
    "</li>\n",
    "<li><code>behavioral_antiviral_meds</code> - Has taken antiviral medications. (binary)</li>\n",
    "<li><code>behavioral_avoidance</code> - Has avoided close contact with others with flu-like symptoms. (binary)</li>\n",
    "<li><code>behavioral_face_mask</code> - Has bought a face mask. (binary)</li>\n",
    "<li><code>behavioral_wash_hands</code> - Has frequently washed hands or used hand sanitizer. (binary)</li>\n",
    "<li><code>behavioral_large_gatherings</code> - Has reduced time at large gatherings. (binary)</li>\n",
    "<li><code>behavioral_outside_home</code> - Has reduced contact with people outside of own household. (binary)</li>\n",
    "<li><code>behavioral_touch_face</code> - Has avoided touching eyes, nose, or mouth. (binary)</li>\n",
    "<li><code>doctor_recc_h1n1</code> - H1N1 flu vaccine was recommended by doctor. (binary)</li>\n",
    "<li><code>doctor_recc_seasonal</code> - Seasonal flu vaccine was recommended by doctor. (binary)</li>\n",
    "<li><code>chronic_med_condition</code> - Has any of the following chronic medical conditions: asthma or an other lung condition, diabetes, a heart condition, a kidney condition, sickle cell anemia or other anemia, a neurological or neuromuscular condition, a liver condition, or a weakened immune system caused by a chronic illness or by medicines taken for a chronic illness. (binary)</li>\n",
    "<li><code>child_under_6_months</code> - Has regular close contact with a child under the age of six months. (binary)</li>\n",
    "<li><code>health_worker</code> - Is a healthcare worker. (binary)</li>\n",
    "<li><code>health_insurance</code> - Has health insurance. (binary)</li>\n",
    "<li><code>opinion_h1n1_vacc_effective</code> - Respondent's opinion about H1N1 vaccine effectiveness.<ul>\n",
    "<li><code>1</code> = Not at all effective; <code>2</code> = Not very effective; <code>3</code> = Don't know; <code>4</code> = Somewhat effective; <code>5</code> = Very effective.</li>\n",
    "</ul>\n",
    "</li>\n",
    "<li><code>opinion_h1n1_risk</code> - Respondent's opinion about risk of getting sick with H1N1 flu without vaccine.<ul>\n",
    "<li><code>1</code> = Very Low; <code>2</code> = Somewhat low; <code>3</code> = Don't know; <code>4</code> = Somewhat high; <code>5</code> = Very high.</li>\n",
    "</ul>\n",
    "</li>\n",
    "<li><code>opinion_h1n1_sick_from_vacc</code> - Respondent's worry of getting sick from taking H1N1 vaccine.<ul>\n",
    "<li><code>1</code> = Not at all worried; <code>2</code> = Not very worried; <code>3</code> = Don't know; <code>4</code> = Somewhat worried; <code>5</code> = Very worried.</li>\n",
    "</ul>\n",
    "</li>\n",
    "<li><code>opinion_seas_vacc_effective</code> - Respondent's opinion about seasonal flu vaccine effectiveness.<ul>\n",
    "<li><code>1</code> = Not at all effective; <code>2</code> = Not very effective; <code>3</code> = Don't know; <code>4</code> = Somewhat effective; <code>5</code> = Very effective.</li>\n",
    "</ul>\n",
    "</li>\n",
    "<li><code>opinion_seas_risk</code> - Respondent's opinion about risk of getting sick with seasonal flu without vaccine.<ul>\n",
    "<li><code>1</code> = Very Low; <code>2</code> = Somewhat low; <code>3</code> = Don't know; <code>4</code> = Somewhat high; <code>5</code> = Very high.</li>\n",
    "</ul>\n",
    "</li>\n",
    "<li><code>opinion_seas_sick_from_vacc</code> - Respondent's worry of getting sick from taking seasonal flu vaccine.<ul>\n",
    "<li><code>1</code> = Not at all worried; <code>2</code> = Not very worried; <code>3</code> = Don't know; <code>4</code> = Somewhat worried; <code>5</code> = Very worried.</li>\n",
    "</ul>\n",
    "</li>\n",
    "<li><code>age_group</code> - Age group of respondent.</li>\n",
    "<li><code>education</code> - Self-reported education level.</li>\n",
    "<li><code>race</code> - Race of respondent.</li>\n",
    "<li><code>sex</code> - Sex of respondent.</li>\n",
    "<li><code>income_poverty</code> - Household annual income of respondent with respect to 2008 Census poverty thresholds.</li>\n",
    "<li><code>marital_status</code> - Marital status of respondent.</li>\n",
    "<li><code>rent_or_own</code> - Housing situation of respondent.</li>\n",
    "<li><code>employment_status</code> - Employment status of respondent.</li>\n",
    "<li><code>hhs_geo_region</code> - Respondent's residence using a 10-region geographic classification defined by the U.S. Dept. of Health and Human Services. Values are represented as short random character strings.</li>\n",
    "<li><code>census_msa</code> - Respondent's residence within metropolitan statistical areas (MSA) as defined by the U.S. Census.</li>\n",
    "<li><code>household_adults</code> - Number of <em>other</em> adults in household, top-coded to 3.</li>\n",
    "<li><code>household_children</code> - Number of children in household, top-coded to 3.</li>\n",
    "<li><code>employment_industry</code> - Type of industry respondent is employed in. Values are represented as short random character strings.</li>\n",
    "<li><code>employment_occupation</code> - Type of occupation of respondent. Values are represented as short random character strings.</li>\n",
    "</ul>"
   ]
  },
  {
   "cell_type": "code",
   "execution_count": 14,
   "id": "83a56d7c",
   "metadata": {},
   "outputs": [
    {
     "data": {
      "text/plain": [
       "respondent_id                    int64\n",
       "h1n1_concern                   float64\n",
       "h1n1_knowledge                 float64\n",
       "behavioral_antiviral_meds      float64\n",
       "behavioral_avoidance           float64\n",
       "behavioral_face_mask           float64\n",
       "behavioral_wash_hands          float64\n",
       "behavioral_large_gatherings    float64\n",
       "behavioral_outside_home        float64\n",
       "behavioral_touch_face          float64\n",
       "doctor_recc_h1n1               float64\n",
       "doctor_recc_seasonal           float64\n",
       "chronic_med_condition          float64\n",
       "child_under_6_months           float64\n",
       "health_worker                  float64\n",
       "health_insurance               float64\n",
       "opinion_h1n1_vacc_effective    float64\n",
       "opinion_h1n1_risk              float64\n",
       "opinion_h1n1_sick_from_vacc    float64\n",
       "opinion_seas_vacc_effective    float64\n",
       "opinion_seas_risk              float64\n",
       "opinion_seas_sick_from_vacc    float64\n",
       "age_group                       object\n",
       "education                       object\n",
       "race                            object\n",
       "sex                             object\n",
       "income_poverty                  object\n",
       "marital_status                  object\n",
       "rent_or_own                     object\n",
       "employment_status               object\n",
       "hhs_geo_region                  object\n",
       "census_msa                      object\n",
       "household_adults               float64\n",
       "household_children             float64\n",
       "employment_industry             object\n",
       "employment_occupation           object\n",
       "h1n1_vaccine                     int64\n",
       "seasonal_vaccine                 int64\n",
       "dtype: object"
      ]
     },
     "execution_count": 14,
     "metadata": {},
     "output_type": "execute_result"
    }
   ],
   "source": [
    "data.dtypes"
   ]
  },
  {
   "cell_type": "code",
   "execution_count": null,
   "id": "98fa3b2b",
   "metadata": {},
   "outputs": [],
   "source": []
  }
 ],
 "metadata": {
  "kernelspec": {
   "display_name": "Python 3 (ipykernel)",
   "language": "python",
   "name": "python3"
  },
  "language_info": {
   "codemirror_mode": {
    "name": "ipython",
    "version": 3
   },
   "file_extension": ".py",
   "mimetype": "text/x-python",
   "name": "python",
   "nbconvert_exporter": "python",
   "pygments_lexer": "ipython3",
   "version": "3.8.5"
  }
 },
 "nbformat": 4,
 "nbformat_minor": 5
}
