{
 "cells": [
  {
   "cell_type": "markdown",
   "id": "65489fd8",
   "metadata": {},
   "source": [
    "# H1N1 and Flu Vaccine Prediction: Data Exploration"
   ]
  },
  {
   "cell_type": "code",
   "execution_count": 1,
   "id": "4bed3a39",
   "metadata": {},
   "outputs": [],
   "source": [
    "import numpy as np\n",
    "import pandas as pd\n",
    "import matplotlib.pyplot as plt\n",
    "import seaborn as sns\n",
    "\n",
    "%matplotlib inline"
   ]
  },
  {
   "cell_type": "markdown",
   "id": "4705f6ce",
   "metadata": {},
   "source": [
    "## Reading in Data"
   ]
  },
  {
   "cell_type": "code",
   "execution_count": 2,
   "id": "1d6d71a3",
   "metadata": {},
   "outputs": [],
   "source": [
    "X = pd.read_csv('data/training_set_features.csv')\n",
    "y = pd.read_csv('data/training_set_labels.csv')"
   ]
  },
  {
   "cell_type": "code",
   "execution_count": 3,
   "id": "ab4d4336",
   "metadata": {},
   "outputs": [],
   "source": [
    "data = pd.concat([X,y], axis = 1)\n",
    "data = data.drop('respondent_id', axis = 1)"
   ]
  },
  {
   "cell_type": "code",
   "execution_count": 4,
   "id": "21a032af",
   "metadata": {},
   "outputs": [
    {
     "data": {
      "text/html": [
       "<div>\n",
       "<style scoped>\n",
       "    .dataframe tbody tr th:only-of-type {\n",
       "        vertical-align: middle;\n",
       "    }\n",
       "\n",
       "    .dataframe tbody tr th {\n",
       "        vertical-align: top;\n",
       "    }\n",
       "\n",
       "    .dataframe thead th {\n",
       "        text-align: right;\n",
       "    }\n",
       "</style>\n",
       "<table border=\"1\" class=\"dataframe\">\n",
       "  <thead>\n",
       "    <tr style=\"text-align: right;\">\n",
       "      <th></th>\n",
       "      <th>h1n1_concern</th>\n",
       "      <th>h1n1_knowledge</th>\n",
       "      <th>behavioral_antiviral_meds</th>\n",
       "      <th>behavioral_avoidance</th>\n",
       "      <th>behavioral_face_mask</th>\n",
       "      <th>behavioral_wash_hands</th>\n",
       "      <th>behavioral_large_gatherings</th>\n",
       "      <th>behavioral_outside_home</th>\n",
       "      <th>behavioral_touch_face</th>\n",
       "      <th>doctor_recc_h1n1</th>\n",
       "      <th>...</th>\n",
       "      <th>rent_or_own</th>\n",
       "      <th>employment_status</th>\n",
       "      <th>hhs_geo_region</th>\n",
       "      <th>census_msa</th>\n",
       "      <th>household_adults</th>\n",
       "      <th>household_children</th>\n",
       "      <th>employment_industry</th>\n",
       "      <th>employment_occupation</th>\n",
       "      <th>h1n1_vaccine</th>\n",
       "      <th>seasonal_vaccine</th>\n",
       "    </tr>\n",
       "  </thead>\n",
       "  <tbody>\n",
       "    <tr>\n",
       "      <th>0</th>\n",
       "      <td>1.0</td>\n",
       "      <td>0.0</td>\n",
       "      <td>0.0</td>\n",
       "      <td>0.0</td>\n",
       "      <td>0.0</td>\n",
       "      <td>0.0</td>\n",
       "      <td>0.0</td>\n",
       "      <td>1.0</td>\n",
       "      <td>1.0</td>\n",
       "      <td>0.0</td>\n",
       "      <td>...</td>\n",
       "      <td>Own</td>\n",
       "      <td>Not in Labor Force</td>\n",
       "      <td>oxchjgsf</td>\n",
       "      <td>Non-MSA</td>\n",
       "      <td>0.0</td>\n",
       "      <td>0.0</td>\n",
       "      <td>NaN</td>\n",
       "      <td>NaN</td>\n",
       "      <td>0</td>\n",
       "      <td>0</td>\n",
       "    </tr>\n",
       "    <tr>\n",
       "      <th>1</th>\n",
       "      <td>3.0</td>\n",
       "      <td>2.0</td>\n",
       "      <td>0.0</td>\n",
       "      <td>1.0</td>\n",
       "      <td>0.0</td>\n",
       "      <td>1.0</td>\n",
       "      <td>0.0</td>\n",
       "      <td>1.0</td>\n",
       "      <td>1.0</td>\n",
       "      <td>0.0</td>\n",
       "      <td>...</td>\n",
       "      <td>Rent</td>\n",
       "      <td>Employed</td>\n",
       "      <td>bhuqouqj</td>\n",
       "      <td>MSA, Not Principle  City</td>\n",
       "      <td>0.0</td>\n",
       "      <td>0.0</td>\n",
       "      <td>pxcmvdjn</td>\n",
       "      <td>xgwztkwe</td>\n",
       "      <td>0</td>\n",
       "      <td>1</td>\n",
       "    </tr>\n",
       "    <tr>\n",
       "      <th>2</th>\n",
       "      <td>1.0</td>\n",
       "      <td>1.0</td>\n",
       "      <td>0.0</td>\n",
       "      <td>1.0</td>\n",
       "      <td>0.0</td>\n",
       "      <td>0.0</td>\n",
       "      <td>0.0</td>\n",
       "      <td>0.0</td>\n",
       "      <td>0.0</td>\n",
       "      <td>NaN</td>\n",
       "      <td>...</td>\n",
       "      <td>Own</td>\n",
       "      <td>Employed</td>\n",
       "      <td>qufhixun</td>\n",
       "      <td>MSA, Not Principle  City</td>\n",
       "      <td>2.0</td>\n",
       "      <td>0.0</td>\n",
       "      <td>rucpziij</td>\n",
       "      <td>xtkaffoo</td>\n",
       "      <td>0</td>\n",
       "      <td>0</td>\n",
       "    </tr>\n",
       "    <tr>\n",
       "      <th>3</th>\n",
       "      <td>1.0</td>\n",
       "      <td>1.0</td>\n",
       "      <td>0.0</td>\n",
       "      <td>1.0</td>\n",
       "      <td>0.0</td>\n",
       "      <td>1.0</td>\n",
       "      <td>1.0</td>\n",
       "      <td>0.0</td>\n",
       "      <td>0.0</td>\n",
       "      <td>0.0</td>\n",
       "      <td>...</td>\n",
       "      <td>Rent</td>\n",
       "      <td>Not in Labor Force</td>\n",
       "      <td>lrircsnp</td>\n",
       "      <td>MSA, Principle City</td>\n",
       "      <td>0.0</td>\n",
       "      <td>0.0</td>\n",
       "      <td>NaN</td>\n",
       "      <td>NaN</td>\n",
       "      <td>0</td>\n",
       "      <td>1</td>\n",
       "    </tr>\n",
       "    <tr>\n",
       "      <th>4</th>\n",
       "      <td>2.0</td>\n",
       "      <td>1.0</td>\n",
       "      <td>0.0</td>\n",
       "      <td>1.0</td>\n",
       "      <td>0.0</td>\n",
       "      <td>1.0</td>\n",
       "      <td>1.0</td>\n",
       "      <td>0.0</td>\n",
       "      <td>1.0</td>\n",
       "      <td>0.0</td>\n",
       "      <td>...</td>\n",
       "      <td>Own</td>\n",
       "      <td>Employed</td>\n",
       "      <td>qufhixun</td>\n",
       "      <td>MSA, Not Principle  City</td>\n",
       "      <td>1.0</td>\n",
       "      <td>0.0</td>\n",
       "      <td>wxleyezf</td>\n",
       "      <td>emcorrxb</td>\n",
       "      <td>0</td>\n",
       "      <td>0</td>\n",
       "    </tr>\n",
       "  </tbody>\n",
       "</table>\n",
       "<p>5 rows × 37 columns</p>\n",
       "</div>"
      ],
      "text/plain": [
       "   h1n1_concern  h1n1_knowledge  behavioral_antiviral_meds  \\\n",
       "0           1.0             0.0                        0.0   \n",
       "1           3.0             2.0                        0.0   \n",
       "2           1.0             1.0                        0.0   \n",
       "3           1.0             1.0                        0.0   \n",
       "4           2.0             1.0                        0.0   \n",
       "\n",
       "   behavioral_avoidance  behavioral_face_mask  behavioral_wash_hands  \\\n",
       "0                   0.0                   0.0                    0.0   \n",
       "1                   1.0                   0.0                    1.0   \n",
       "2                   1.0                   0.0                    0.0   \n",
       "3                   1.0                   0.0                    1.0   \n",
       "4                   1.0                   0.0                    1.0   \n",
       "\n",
       "   behavioral_large_gatherings  behavioral_outside_home  \\\n",
       "0                          0.0                      1.0   \n",
       "1                          0.0                      1.0   \n",
       "2                          0.0                      0.0   \n",
       "3                          1.0                      0.0   \n",
       "4                          1.0                      0.0   \n",
       "\n",
       "   behavioral_touch_face  doctor_recc_h1n1  ...  rent_or_own  \\\n",
       "0                    1.0               0.0  ...          Own   \n",
       "1                    1.0               0.0  ...         Rent   \n",
       "2                    0.0               NaN  ...          Own   \n",
       "3                    0.0               0.0  ...         Rent   \n",
       "4                    1.0               0.0  ...          Own   \n",
       "\n",
       "    employment_status  hhs_geo_region                census_msa  \\\n",
       "0  Not in Labor Force        oxchjgsf                   Non-MSA   \n",
       "1            Employed        bhuqouqj  MSA, Not Principle  City   \n",
       "2            Employed        qufhixun  MSA, Not Principle  City   \n",
       "3  Not in Labor Force        lrircsnp       MSA, Principle City   \n",
       "4            Employed        qufhixun  MSA, Not Principle  City   \n",
       "\n",
       "   household_adults  household_children  employment_industry  \\\n",
       "0               0.0                 0.0                  NaN   \n",
       "1               0.0                 0.0             pxcmvdjn   \n",
       "2               2.0                 0.0             rucpziij   \n",
       "3               0.0                 0.0                  NaN   \n",
       "4               1.0                 0.0             wxleyezf   \n",
       "\n",
       "   employment_occupation  h1n1_vaccine  seasonal_vaccine  \n",
       "0                    NaN             0                 0  \n",
       "1               xgwztkwe             0                 1  \n",
       "2               xtkaffoo             0                 0  \n",
       "3                    NaN             0                 1  \n",
       "4               emcorrxb             0                 0  \n",
       "\n",
       "[5 rows x 37 columns]"
      ]
     },
     "execution_count": 4,
     "metadata": {},
     "output_type": "execute_result"
    }
   ],
   "source": [
    "data.head()"
   ]
  },
  {
   "cell_type": "markdown",
   "id": "d83365b9",
   "metadata": {},
   "source": [
    "## EDA"
   ]
  },
  {
   "cell_type": "markdown",
   "id": "0d656536",
   "metadata": {},
   "source": [
    "From the dataset description, we have the following features in our dataset:\n",
    "<ul>\n",
    "<li><code>h1n1_concern</code> - Level of concern about the H1N1 flu.<ul>\n",
    "<li><code>0</code> = Not at all concerned; <code>1</code> = Not very concerned; <code>2</code> = Somewhat concerned; <code>3</code> = Very concerned.</li>\n",
    "</ul>\n",
    "</li>\n",
    "<li><code>h1n1_knowledge</code> - Level of knowledge about H1N1 flu.<ul>\n",
    "<li><code>0</code> = No knowledge; <code>1</code> = A little knowledge; <code>2</code> = A lot of knowledge.</li>\n",
    "</ul>\n",
    "</li>\n",
    "<li><code>behavioral_antiviral_meds</code> - Has taken antiviral medications. (binary)</li>\n",
    "<li><code>behavioral_avoidance</code> - Has avoided close contact with others with flu-like symptoms. (binary)</li>\n",
    "<li><code>behavioral_face_mask</code> - Has bought a face mask. (binary)</li>\n",
    "<li><code>behavioral_wash_hands</code> - Has frequently washed hands or used hand sanitizer. (binary)</li>\n",
    "<li><code>behavioral_large_gatherings</code> - Has reduced time at large gatherings. (binary)</li>\n",
    "<li><code>behavioral_outside_home</code> - Has reduced contact with people outside of own household. (binary)</li>\n",
    "<li><code>behavioral_touch_face</code> - Has avoided touching eyes, nose, or mouth. (binary)</li>\n",
    "<li><code>doctor_recc_h1n1</code> - H1N1 flu vaccine was recommended by doctor. (binary)</li>\n",
    "<li><code>doctor_recc_seasonal</code> - Seasonal flu vaccine was recommended by doctor. (binary)</li>\n",
    "<li><code>chronic_med_condition</code> - Has any of the following chronic medical conditions: asthma or an other lung condition, diabetes, a heart condition, a kidney condition, sickle cell anemia or other anemia, a neurological or neuromuscular condition, a liver condition, or a weakened immune system caused by a chronic illness or by medicines taken for a chronic illness. (binary)</li>\n",
    "<li><code>child_under_6_months</code> - Has regular close contact with a child under the age of six months. (binary)</li>\n",
    "<li><code>health_worker</code> - Is a healthcare worker. (binary)</li>\n",
    "<li><code>health_insurance</code> - Has health insurance. (binary)</li>\n",
    "<li><code>opinion_h1n1_vacc_effective</code> - Respondent's opinion about H1N1 vaccine effectiveness.<ul>\n",
    "<li><code>1</code> = Not at all effective; <code>2</code> = Not very effective; <code>3</code> = Don't know; <code>4</code> = Somewhat effective; <code>5</code> = Very effective.</li>\n",
    "</ul>\n",
    "</li>\n",
    "<li><code>opinion_h1n1_risk</code> - Respondent's opinion about risk of getting sick with H1N1 flu without vaccine.<ul>\n",
    "<li><code>1</code> = Very Low; <code>2</code> = Somewhat low; <code>3</code> = Don't know; <code>4</code> = Somewhat high; <code>5</code> = Very high.</li>\n",
    "</ul>\n",
    "</li>\n",
    "<li><code>opinion_h1n1_sick_from_vacc</code> - Respondent's worry of getting sick from taking H1N1 vaccine.<ul>\n",
    "<li><code>1</code> = Not at all worried; <code>2</code> = Not very worried; <code>3</code> = Don't know; <code>4</code> = Somewhat worried; <code>5</code> = Very worried.</li>\n",
    "</ul>\n",
    "</li>\n",
    "<li><code>opinion_seas_vacc_effective</code> - Respondent's opinion about seasonal flu vaccine effectiveness.<ul>\n",
    "<li><code>1</code> = Not at all effective; <code>2</code> = Not very effective; <code>3</code> = Don't know; <code>4</code> = Somewhat effective; <code>5</code> = Very effective.</li>\n",
    "</ul>\n",
    "</li>\n",
    "<li><code>opinion_seas_risk</code> - Respondent's opinion about risk of getting sick with seasonal flu without vaccine.<ul>\n",
    "<li><code>1</code> = Very Low; <code>2</code> = Somewhat low; <code>3</code> = Don't know; <code>4</code> = Somewhat high; <code>5</code> = Very high.</li>\n",
    "</ul>\n",
    "</li>\n",
    "<li><code>opinion_seas_sick_from_vacc</code> - Respondent's worry of getting sick from taking seasonal flu vaccine.<ul>\n",
    "<li><code>1</code> = Not at all worried; <code>2</code> = Not very worried; <code>3</code> = Don't know; <code>4</code> = Somewhat worried; <code>5</code> = Very worried.</li>\n",
    "</ul>\n",
    "</li>\n",
    "<li><code>age_group</code> - Age group of respondent.</li>\n",
    "<li><code>education</code> - Self-reported education level.</li>\n",
    "<li><code>race</code> - Race of respondent.</li>\n",
    "<li><code>sex</code> - Sex of respondent.</li>\n",
    "<li><code>income_poverty</code> - Household annual income of respondent with respect to 2008 Census poverty thresholds.</li>\n",
    "<li><code>marital_status</code> - Marital status of respondent.</li>\n",
    "<li><code>rent_or_own</code> - Housing situation of respondent.</li>\n",
    "<li><code>employment_status</code> - Employment status of respondent.</li>\n",
    "<li><code>hhs_geo_region</code> - Respondent's residence using a 10-region geographic classification defined by the U.S. Dept. of Health and Human Services. Values are represented as short random character strings.</li>\n",
    "<li><code>census_msa</code> - Respondent's residence within metropolitan statistical areas (MSA) as defined by the U.S. Census.</li>\n",
    "<li><code>household_adults</code> - Number of <em>other</em> adults in household, top-coded to 3.</li>\n",
    "<li><code>household_children</code> - Number of children in household, top-coded to 3.</li>\n",
    "<li><code>employment_industry</code> - Type of industry respondent is employed in. Values are represented as short random character strings.</li>\n",
    "<li><code>employment_occupation</code> - Type of occupation of respondent. Values are represented as short random character strings.</li>\n",
    "</ul>"
   ]
  },
  {
   "cell_type": "code",
   "execution_count": 5,
   "id": "83a56d7c",
   "metadata": {},
   "outputs": [
    {
     "data": {
      "text/plain": [
       "h1n1_concern                   float64\n",
       "h1n1_knowledge                 float64\n",
       "behavioral_antiviral_meds      float64\n",
       "behavioral_avoidance           float64\n",
       "behavioral_face_mask           float64\n",
       "behavioral_wash_hands          float64\n",
       "behavioral_large_gatherings    float64\n",
       "behavioral_outside_home        float64\n",
       "behavioral_touch_face          float64\n",
       "doctor_recc_h1n1               float64\n",
       "doctor_recc_seasonal           float64\n",
       "chronic_med_condition          float64\n",
       "child_under_6_months           float64\n",
       "health_worker                  float64\n",
       "health_insurance               float64\n",
       "opinion_h1n1_vacc_effective    float64\n",
       "opinion_h1n1_risk              float64\n",
       "opinion_h1n1_sick_from_vacc    float64\n",
       "opinion_seas_vacc_effective    float64\n",
       "opinion_seas_risk              float64\n",
       "opinion_seas_sick_from_vacc    float64\n",
       "age_group                       object\n",
       "education                       object\n",
       "race                            object\n",
       "sex                             object\n",
       "income_poverty                  object\n",
       "marital_status                  object\n",
       "rent_or_own                     object\n",
       "employment_status               object\n",
       "hhs_geo_region                  object\n",
       "census_msa                      object\n",
       "household_adults               float64\n",
       "household_children             float64\n",
       "employment_industry             object\n",
       "employment_occupation           object\n",
       "h1n1_vaccine                     int64\n",
       "seasonal_vaccine                 int64\n",
       "dtype: object"
      ]
     },
     "execution_count": 5,
     "metadata": {},
     "output_type": "execute_result"
    }
   ],
   "source": [
    "data.dtypes"
   ]
  },
  {
   "cell_type": "code",
   "execution_count": 6,
   "id": "98fa3b2b",
   "metadata": {},
   "outputs": [
    {
     "data": {
      "text/plain": [
       "h1n1_concern                   0.003445\n",
       "h1n1_knowledge                 0.004343\n",
       "behavioral_antiviral_meds      0.002658\n",
       "behavioral_avoidance           0.007788\n",
       "behavioral_face_mask           0.000711\n",
       "behavioral_wash_hands          0.001573\n",
       "behavioral_large_gatherings    0.003258\n",
       "behavioral_outside_home        0.003070\n",
       "behavioral_touch_face          0.004793\n",
       "doctor_recc_h1n1               0.080878\n",
       "doctor_recc_seasonal           0.080878\n",
       "chronic_med_condition          0.036358\n",
       "child_under_6_months           0.030704\n",
       "health_worker                  0.030104\n",
       "health_insurance               0.459580\n",
       "opinion_h1n1_vacc_effective    0.014640\n",
       "opinion_h1n1_risk              0.014528\n",
       "opinion_h1n1_sick_from_vacc    0.014790\n",
       "opinion_seas_vacc_effective    0.017299\n",
       "opinion_seas_risk              0.019246\n",
       "opinion_seas_sick_from_vacc    0.020107\n",
       "age_group                      0.000000\n",
       "education                      0.052683\n",
       "race                           0.000000\n",
       "sex                            0.000000\n",
       "income_poverty                 0.165612\n",
       "marital_status                 0.052720\n",
       "rent_or_own                    0.076459\n",
       "employment_status              0.054780\n",
       "hhs_geo_region                 0.000000\n",
       "census_msa                     0.000000\n",
       "household_adults               0.009323\n",
       "household_children             0.009323\n",
       "employment_industry            0.499120\n",
       "employment_occupation          0.504362\n",
       "h1n1_vaccine                   0.000000\n",
       "seasonal_vaccine               0.000000\n",
       "dtype: float64"
      ]
     },
     "execution_count": 6,
     "metadata": {},
     "output_type": "execute_result"
    }
   ],
   "source": [
    "data.isna().sum()/len(data)"
   ]
  },
  {
   "cell_type": "code",
   "execution_count": 7,
   "id": "da29dd46",
   "metadata": {
    "scrolled": true
   },
   "outputs": [
    {
     "data": {
      "text/plain": [
       "h1n1_concern                    4\n",
       "h1n1_knowledge                  3\n",
       "behavioral_antiviral_meds       2\n",
       "behavioral_avoidance            2\n",
       "behavioral_face_mask            2\n",
       "behavioral_wash_hands           2\n",
       "behavioral_large_gatherings     2\n",
       "behavioral_outside_home         2\n",
       "behavioral_touch_face           2\n",
       "doctor_recc_h1n1                2\n",
       "doctor_recc_seasonal            2\n",
       "chronic_med_condition           2\n",
       "child_under_6_months            2\n",
       "health_worker                   2\n",
       "health_insurance                2\n",
       "opinion_h1n1_vacc_effective     5\n",
       "opinion_h1n1_risk               5\n",
       "opinion_h1n1_sick_from_vacc     5\n",
       "opinion_seas_vacc_effective     5\n",
       "opinion_seas_risk               5\n",
       "opinion_seas_sick_from_vacc     5\n",
       "age_group                       5\n",
       "education                       4\n",
       "race                            4\n",
       "sex                             2\n",
       "income_poverty                  3\n",
       "marital_status                  2\n",
       "rent_or_own                     2\n",
       "employment_status               3\n",
       "hhs_geo_region                 10\n",
       "census_msa                      3\n",
       "household_adults                4\n",
       "household_children              4\n",
       "employment_industry            21\n",
       "employment_occupation          23\n",
       "h1n1_vaccine                    2\n",
       "seasonal_vaccine                2\n",
       "dtype: int64"
      ]
     },
     "execution_count": 7,
     "metadata": {},
     "output_type": "execute_result"
    }
   ],
   "source": [
    "data.nunique()"
   ]
  },
  {
   "cell_type": "code",
   "execution_count": 8,
   "id": "3ab1d10e",
   "metadata": {},
   "outputs": [],
   "source": [
    "binary_dict = {0:'No', 1:'Yes'}\n",
    "cols = data.columns\n",
    "object_cols = [] # columns \n",
    "num_cols = []\n",
    "for col in cols:\n",
    "    if data[col].nunique() == 2 or data[col].dtype == 'object':\n",
    "        object_cols.append(col)\n",
    "    else:\n",
    "        num_cols.append(col)\n",
    "object_cols = object_cols[:-2]\n",
    "data[object_cols] = data[object_cols].replace(binary_dict) # map 0 and 1s to 'No' and 'Yes' respectively\n",
    "data[object_cols] = data[object_cols].fillna('missing') # fill missing as 'missing'"
   ]
  },
  {
   "cell_type": "code",
   "execution_count": 9,
   "id": "7ebdd511",
   "metadata": {},
   "outputs": [
    {
     "data": {
      "image/png": "[encoded data removed]",
      "text/plain": [
       "<Figure size 432x288 with 1 Axes>"
      ]
     },
     "metadata": {
      "needs_background": "light"
     },
     "output_type": "display_data"
    },
    {
     "data": {
      "image/png": "[encoded data removed]",
      "text/plain": [
       "<Figure size 432x288 with 1 Axes>"
      ]
     },
     "metadata": {
      "needs_background": "light"
     },
     "output_type": "display_data"
    }
   ],
   "source": [
    "sns.countplot(data = data, x = 'h1n1_vaccine')\n",
    "plt.show()\n",
    "sns.countplot(data = data, x = 'seasonal_vaccine')\n",
    "plt.show()"
   ]
  },
  {
   "cell_type": "code",
   "execution_count": 10,
   "id": "f63f1863",
   "metadata": {},
   "outputs": [
    {
     "data": {
      "image/png": "[encoded data removed]",
      "text/plain": [
       "<Figure size 432x288 with 1 Axes>"
      ]
     },
     "metadata": {
      "needs_background": "light"
     },
     "output_type": "display_data"
    },
    {
     "data": {
      "image/png": "[encoded data removed]",
      "text/plain": [
       "<Figure size 432x288 with 1 Axes>"
      ]
     },
     "metadata": {
      "needs_background": "light"
     },
     "output_type": "display_data"
    },
    {
     "data": {
      "image/png": "[encoded data removed]",
      "text/plain": [
       "<Figure size 432x288 with 1 Axes>"
      ]
     },
     "metadata": {
      "needs_background": "light"
     },
     "output_type": "display_data"
    },
    {
     "data": {
      "image/png": "[encoded data removed]",
      "text/plain": [
       "<Figure size 432x288 with 1 Axes>"
      ]
     },
     "metadata": {
      "needs_background": "light"
     },
     "output_type": "display_data"
    },
    {
     "data": {
      "image/png": "[encoded data removed]",
      "text/plain": [
       "<Figure size 432x288 with 1 Axes>"
      ]
     },
     "metadata": {
      "needs_background": "light"
     },
     "output_type": "display_data"
    },
    {
     "data": {
      "image/png": "[encoded data removed]",
      "text/plain": [
       "<Figure size 432x288 with 1 Axes>"
      ]
     },
     "metadata": {
      "needs_background": "light"
     },
     "output_type": "display_data"
    },
    {
     "data": {
      "image/png": "[encoded data removed]",
      "text/plain": [
       "<Figure size 432x288 with 1 Axes>"
      ]
     },
     "metadata": {
      "needs_background": "light"
     },
     "output_type": "display_data"
    },
    {
     "data": {
      "image/png": "[encoded data removed]",
      "text/plain": [
       "<Figure size 432x288 with 1 Axes>"
      ]
     },
     "metadata": {
      "needs_background": "light"
     },
     "output_type": "display_data"
    },
    {
     "data": {
      "image/png": "[encoded data removed]",
      "text/plain": [
       "<Figure size 432x288 with 1 Axes>"
      ]
     },
     "metadata": {
      "needs_background": "light"
     },
     "output_type": "display_data"
    },
    {
     "data": {
      "image/png": "[encoded data removed]",
      "text/plain": [
       "<Figure size 432x288 with 1 Axes>"
      ]
     },
     "metadata": {
      "needs_background": "light"
     },
     "output_type": "display_data"
    },
    {
     "data": {
      "image/png": "[encoded data removed]",
      "text/plain": [
       "<Figure size 432x288 with 1 Axes>"
      ]
     },
     "metadata": {
      "needs_background": "light"
     },
     "output_type": "display_data"
    },
    {
     "data": {
      "image/png": "[encoded data removed]",
      "text/plain": [
       "<Figure size 432x288 with 1 Axes>"
      ]
     },
     "metadata": {
      "needs_background": "light"
     },
     "output_type": "display_data"
    },
    {
     "data": {
      "image/png": "[encoded data removed]",
      "text/plain": [
       "<Figure size 432x288 with 1 Axes>"
      ]
     },
     "metadata": {
      "needs_background": "light"
     },
     "output_type": "display_data"
    },
    {
     "data": {
      "image/png": "[encoded data removed]",
      "text/plain": [
       "<Figure size 432x288 with 1 Axes>"
      ]
     },
     "metadata": {
      "needs_background": "light"
     },
     "output_type": "display_data"
    },
    {
     "data": {
      "image/png": "[encoded data removed]",
      "text/plain": [
       "<Figure size 432x288 with 1 Axes>"
      ]
     },
     "metadata": {
      "needs_background": "light"
     },
     "output_type": "display_data"
    },
    {
     "data": {
      "image/png": "[encoded data removed]",
      "text/plain": [
       "<Figure size 432x288 with 1 Axes>"
      ]
     },
     "metadata": {
      "needs_background": "light"
     },
     "output_type": "display_data"
    },
    {
     "data": {
      "image/png": "[encoded data removed]",
      "text/plain": [
       "<Figure size 432x288 with 1 Axes>"
      ]
     },
     "metadata": {
      "needs_background": "light"
     },
     "output_type": "display_data"
    },
    {
     "data": {
      "image/png": "[encoded data removed]",
      "text/plain": [
       "<Figure size 432x288 with 1 Axes>"
      ]
     },
     "metadata": {
      "needs_background": "light"
     },
     "output_type": "display_data"
    },
    {
     "data": {
      "image/png": "[encoded data removed]",
      "text/plain": [
       "<Figure size 432x288 with 1 Axes>"
      ]
     },
     "metadata": {
      "needs_background": "light"
     },
     "output_type": "display_data"
    },
    {
     "data": {
      "image/png": "[encoded data removed]",
      "text/plain": [
       "<Figure size 432x288 with 1 Axes>"
      ]
     },
     "metadata": {
      "needs_background": "light"
     },
     "output_type": "display_data"
    },
    {
     "data": {
      "image/png": "[encoded data removed]",
      "text/plain": [
       "<Figure size 432x288 with 1 Axes>"
      ]
     },
     "metadata": {
      "needs_background": "light"
     },
     "output_type": "display_data"
    },
    {
     "data": {
      "image/png": "[encoded data removed]",
      "text/plain": [
       "<Figure size 432x288 with 1 Axes>"
      ]
     },
     "metadata": {
      "needs_background": "light"
     },
     "output_type": "display_data"
    },
    {
     "data": {
      "image/png": "[encoded data removed]",
      "text/plain": [
       "<Figure size 432x288 with 1 Axes>"
      ]
     },
     "metadata": {
      "needs_background": "light"
     },
     "output_type": "display_data"
    },
    {
     "data": {
      "image/png": "[encoded data removed]",
      "text/plain": [
       "<Figure size 432x288 with 1 Axes>"
      ]
     },
     "metadata": {
      "needs_background": "light"
     },
     "output_type": "display_data"
    },
    {
     "data": {
      "image/png": "[encoded data removed]",
      "text/plain": [
       "<Figure size 432x288 with 1 Axes>"
      ]
     },
     "metadata": {
      "needs_background": "light"
     },
     "output_type": "display_data"
    }
   ],
   "source": [
    "for col in object_cols:\n",
    "    sns.countplot(data = data, x = col)\n",
    "    plt.show()"
   ]
  },
  {
   "cell_type": "code",
   "execution_count": 16,
   "id": "99044af1",
   "metadata": {},
   "outputs": [
    {
     "data": {
      "image/png": "[encoded data removed]",
      "text/plain": [
       "<Figure size 432x288 with 1 Axes>"
      ]
     },
     "metadata": {
      "needs_background": "light"
     },
     "output_type": "display_data"
    },
    {
     "data": {
      "image/png": "[encoded data removed]",
      "text/plain": [
       "<Figure size 432x288 with 1 Axes>"
      ]
     },
     "metadata": {
      "needs_background": "light"
     },
     "output_type": "display_data"
    },
    {
     "data": {
      "image/png": "[encoded data removed]",
      "text/plain": [
       "<Figure size 432x288 with 1 Axes>"
      ]
     },
     "metadata": {
      "needs_background": "light"
     },
     "output_type": "display_data"
    },
    {
     "data": {
      "image/png": "[encoded data removed]",
      "text/plain": [
       "<Figure size 432x288 with 1 Axes>"
      ]
     },
     "metadata": {
      "needs_background": "light"
     },
     "output_type": "display_data"
    },
    {
     "data": {
      "image/png": "[encoded data removed]",
      "text/plain": [
       "<Figure size 432x288 with 1 Axes>"
      ]
     },
     "metadata": {
      "needs_background": "light"
     },
     "output_type": "display_data"
    },
    {
     "data": {
      "image/png": "[encoded data removed]",
      "text/plain": [
       "<Figure size 432x288 with 1 Axes>"
      ]
     },
     "metadata": {
      "needs_background": "light"
     },
     "output_type": "display_data"
    },
    {
     "data": {
      "image/png": "[encoded data removed]",
      "text/plain": [
       "<Figure size 432x288 with 1 Axes>"
      ]
     },
     "metadata": {
      "needs_background": "light"
     },
     "output_type": "display_data"
    },
    {
     "data": {
      "image/png": "[encoded data removed]",
      "text/plain": [
       "<Figure size 432x288 with 1 Axes>"
      ]
     },
     "metadata": {
      "needs_background": "light"
     },
     "output_type": "display_data"
    },
    {
     "data": {
      "image/png": "[encoded data removed]",
      "text/plain": [
       "<Figure size 432x288 with 1 Axes>"
      ]
     },
     "metadata": {
      "needs_background": "light"
     },
     "output_type": "display_data"
    },
    {
     "data": {
      "image/png": "[encoded data removed]",
      "text/plain": [
       "<Figure size 432x288 with 1 Axes>"
      ]
     },
     "metadata": {
      "needs_background": "light"
     },
     "output_type": "display_data"
    }
   ],
   "source": [
    "for col in num_cols:\n",
    "    sns.countplot(data = data, x = col)\n",
    "    plt.show()"
   ]
  },
  {
   "cell_type": "code",
   "execution_count": 47,
   "id": "a3e976f8",
   "metadata": {},
   "outputs": [
    {
     "data": {
      "text/html": [
       "<div>\n",
       "<style scoped>\n",
       "    .dataframe tbody tr th:only-of-type {\n",
       "        vertical-align: middle;\n",
       "    }\n",
       "\n",
       "    .dataframe tbody tr th {\n",
       "        vertical-align: top;\n",
       "    }\n",
       "\n",
       "    .dataframe thead th {\n",
       "        text-align: right;\n",
       "    }\n",
       "</style>\n",
       "<table border=\"1\" class=\"dataframe\">\n",
       "  <thead>\n",
       "    <tr style=\"text-align: right;\">\n",
       "      <th></th>\n",
       "      <th>h1n1_vaccine</th>\n",
       "      <th>seasonal_vaccine</th>\n",
       "    </tr>\n",
       "    <tr>\n",
       "      <th>behavioral_antiviral_meds</th>\n",
       "      <th></th>\n",
       "      <th></th>\n",
       "    </tr>\n",
       "  </thead>\n",
       "  <tbody>\n",
       "    <tr>\n",
       "      <th>No</th>\n",
       "      <td>0.208171</td>\n",
       "      <td>0.464338</td>\n",
       "    </tr>\n",
       "    <tr>\n",
       "      <th>Yes</th>\n",
       "      <td>0.285165</td>\n",
       "      <td>0.478862</td>\n",
       "    </tr>\n",
       "    <tr>\n",
       "      <th>missing</th>\n",
       "      <td>0.408451</td>\n",
       "      <td>0.676056</td>\n",
       "    </tr>\n",
       "  </tbody>\n",
       "</table>\n",
       "</div>"
      ],
      "text/plain": [
       "                           h1n1_vaccine  seasonal_vaccine\n",
       "behavioral_antiviral_meds                                \n",
       "No                             0.208171          0.464338\n",
       "Yes                            0.285165          0.478862\n",
       "missing                        0.408451          0.676056"
      ]
     },
     "metadata": {},
     "output_type": "display_data"
    },
    {
     "data": {
      "text/plain": [
       "No         25335\n",
       "Yes         1301\n",
       "missing       71\n",
       "Name: behavioral_antiviral_meds, dtype: int64"
      ]
     },
     "metadata": {},
     "output_type": "display_data"
    },
    {
     "data": {
      "text/html": [
       "<div>\n",
       "<style scoped>\n",
       "    .dataframe tbody tr th:only-of-type {\n",
       "        vertical-align: middle;\n",
       "    }\n",
       "\n",
       "    .dataframe tbody tr th {\n",
       "        vertical-align: top;\n",
       "    }\n",
       "\n",
       "    .dataframe thead th {\n",
       "        text-align: right;\n",
       "    }\n",
       "</style>\n",
       "<table border=\"1\" class=\"dataframe\">\n",
       "  <thead>\n",
       "    <tr style=\"text-align: right;\">\n",
       "      <th></th>\n",
       "      <th>h1n1_vaccine</th>\n",
       "      <th>seasonal_vaccine</th>\n",
       "    </tr>\n",
       "    <tr>\n",
       "      <th>behavioral_avoidance</th>\n",
       "      <th></th>\n",
       "      <th></th>\n",
       "    </tr>\n",
       "  </thead>\n",
       "  <tbody>\n",
       "    <tr>\n",
       "      <th>No</th>\n",
       "      <td>0.181131</td>\n",
       "      <td>0.403521</td>\n",
       "    </tr>\n",
       "    <tr>\n",
       "      <th>Yes</th>\n",
       "      <td>0.224880</td>\n",
       "      <td>0.488922</td>\n",
       "    </tr>\n",
       "    <tr>\n",
       "      <th>missing</th>\n",
       "      <td>0.158654</td>\n",
       "      <td>0.480769</td>\n",
       "    </tr>\n",
       "  </tbody>\n",
       "</table>\n",
       "</div>"
      ],
      "text/plain": [
       "                      h1n1_vaccine  seasonal_vaccine\n",
       "behavioral_avoidance                                \n",
       "No                        0.181131          0.403521\n",
       "Yes                       0.224880          0.488922\n",
       "missing                   0.158654          0.480769"
      ]
     },
     "metadata": {},
     "output_type": "display_data"
    },
    {
     "data": {
      "text/plain": [
       "Yes        19228\n",
       "No          7271\n",
       "missing      208\n",
       "Name: behavioral_avoidance, dtype: int64"
      ]
     },
     "metadata": {},
     "output_type": "display_data"
    },
    {
     "data": {
      "text/html": [
       "<div>\n",
       "<style scoped>\n",
       "    .dataframe tbody tr th:only-of-type {\n",
       "        vertical-align: middle;\n",
       "    }\n",
       "\n",
       "    .dataframe tbody tr th {\n",
       "        vertical-align: top;\n",
       "    }\n",
       "\n",
       "    .dataframe thead th {\n",
       "        text-align: right;\n",
       "    }\n",
       "</style>\n",
       "<table border=\"1\" class=\"dataframe\">\n",
       "  <thead>\n",
       "    <tr style=\"text-align: right;\">\n",
       "      <th></th>\n",
       "      <th>h1n1_vaccine</th>\n",
       "      <th>seasonal_vaccine</th>\n",
       "    </tr>\n",
       "    <tr>\n",
       "      <th>behavioral_face_mask</th>\n",
       "      <th></th>\n",
       "      <th></th>\n",
       "    </tr>\n",
       "  </thead>\n",
       "  <tbody>\n",
       "    <tr>\n",
       "      <th>No</th>\n",
       "      <td>0.204532</td>\n",
       "      <td>0.458727</td>\n",
       "    </tr>\n",
       "    <tr>\n",
       "      <th>Yes</th>\n",
       "      <td>0.318305</td>\n",
       "      <td>0.557306</td>\n",
       "    </tr>\n",
       "    <tr>\n",
       "      <th>missing</th>\n",
       "      <td>0.315789</td>\n",
       "      <td>0.578947</td>\n",
       "    </tr>\n",
       "  </tbody>\n",
       "</table>\n",
       "</div>"
      ],
      "text/plain": [
       "                      h1n1_vaccine  seasonal_vaccine\n",
       "behavioral_face_mask                                \n",
       "No                        0.204532          0.458727\n",
       "Yes                       0.318305          0.557306\n",
       "missing                   0.315789          0.578947"
      ]
     },
     "metadata": {},
     "output_type": "display_data"
    },
    {
     "data": {
      "text/plain": [
       "No         24847\n",
       "Yes         1841\n",
       "missing       19\n",
       "Name: behavioral_face_mask, dtype: int64"
      ]
     },
     "metadata": {},
     "output_type": "display_data"
    },
    {
     "data": {
      "text/html": [
       "<div>\n",
       "<style scoped>\n",
       "    .dataframe tbody tr th:only-of-type {\n",
       "        vertical-align: middle;\n",
       "    }\n",
       "\n",
       "    .dataframe tbody tr th {\n",
       "        vertical-align: top;\n",
       "    }\n",
       "\n",
       "    .dataframe thead th {\n",
       "        text-align: right;\n",
       "    }\n",
       "</style>\n",
       "<table border=\"1\" class=\"dataframe\">\n",
       "  <thead>\n",
       "    <tr style=\"text-align: right;\">\n",
       "      <th></th>\n",
       "      <th>h1n1_vaccine</th>\n",
       "      <th>seasonal_vaccine</th>\n",
       "    </tr>\n",
       "    <tr>\n",
       "      <th>behavioral_wash_hands</th>\n",
       "      <th></th>\n",
       "      <th></th>\n",
       "    </tr>\n",
       "  </thead>\n",
       "  <tbody>\n",
       "    <tr>\n",
       "      <th>No</th>\n",
       "      <td>0.146022</td>\n",
       "      <td>0.343656</td>\n",
       "    </tr>\n",
       "    <tr>\n",
       "      <th>Yes</th>\n",
       "      <td>0.226573</td>\n",
       "      <td>0.491438</td>\n",
       "    </tr>\n",
       "    <tr>\n",
       "      <th>missing</th>\n",
       "      <td>0.166667</td>\n",
       "      <td>0.428571</td>\n",
       "    </tr>\n",
       "  </tbody>\n",
       "</table>\n",
       "</div>"
      ],
      "text/plain": [
       "                       h1n1_vaccine  seasonal_vaccine\n",
       "behavioral_wash_hands                                \n",
       "No                         0.146022          0.343656\n",
       "Yes                        0.226573          0.491438\n",
       "missing                    0.166667          0.428571"
      ]
     },
     "metadata": {},
     "output_type": "display_data"
    },
    {
     "data": {
      "text/plain": [
       "Yes        22015\n",
       "No          4650\n",
       "missing       42\n",
       "Name: behavioral_wash_hands, dtype: int64"
      ]
     },
     "metadata": {},
     "output_type": "display_data"
    },
    {
     "data": {
      "text/html": [
       "<div>\n",
       "<style scoped>\n",
       "    .dataframe tbody tr th:only-of-type {\n",
       "        vertical-align: middle;\n",
       "    }\n",
       "\n",
       "    .dataframe tbody tr th {\n",
       "        vertical-align: top;\n",
       "    }\n",
       "\n",
       "    .dataframe thead th {\n",
       "        text-align: right;\n",
       "    }\n",
       "</style>\n",
       "<table border=\"1\" class=\"dataframe\">\n",
       "  <thead>\n",
       "    <tr style=\"text-align: right;\">\n",
       "      <th></th>\n",
       "      <th>h1n1_vaccine</th>\n",
       "      <th>seasonal_vaccine</th>\n",
       "    </tr>\n",
       "    <tr>\n",
       "      <th>behavioral_large_gatherings</th>\n",
       "      <th></th>\n",
       "      <th></th>\n",
       "    </tr>\n",
       "  </thead>\n",
       "  <tbody>\n",
       "    <tr>\n",
       "      <th>No</th>\n",
       "      <td>0.207169</td>\n",
       "      <td>0.441633</td>\n",
       "    </tr>\n",
       "    <tr>\n",
       "      <th>Yes</th>\n",
       "      <td>0.222374</td>\n",
       "      <td>0.508222</td>\n",
       "    </tr>\n",
       "    <tr>\n",
       "      <th>missing</th>\n",
       "      <td>0.160920</td>\n",
       "      <td>0.494253</td>\n",
       "    </tr>\n",
       "  </tbody>\n",
       "</table>\n",
       "</div>"
      ],
      "text/plain": [
       "                             h1n1_vaccine  seasonal_vaccine\n",
       "behavioral_large_gatherings                                \n",
       "No                               0.207169          0.441633\n",
       "Yes                              0.222374          0.508222\n",
       "missing                          0.160920          0.494253"
      ]
     },
     "metadata": {},
     "output_type": "display_data"
    },
    {
     "data": {
      "text/plain": [
       "No         17073\n",
       "Yes         9547\n",
       "missing       87\n",
       "Name: behavioral_large_gatherings, dtype: int64"
      ]
     },
     "metadata": {},
     "output_type": "display_data"
    },
    {
     "data": {
      "text/html": [
       "<div>\n",
       "<style scoped>\n",
       "    .dataframe tbody tr th:only-of-type {\n",
       "        vertical-align: middle;\n",
       "    }\n",
       "\n",
       "    .dataframe tbody tr th {\n",
       "        vertical-align: top;\n",
       "    }\n",
       "\n",
       "    .dataframe thead th {\n",
       "        text-align: right;\n",
       "    }\n",
       "</style>\n",
       "<table border=\"1\" class=\"dataframe\">\n",
       "  <thead>\n",
       "    <tr style=\"text-align: right;\">\n",
       "      <th></th>\n",
       "      <th>h1n1_vaccine</th>\n",
       "      <th>seasonal_vaccine</th>\n",
       "    </tr>\n",
       "    <tr>\n",
       "      <th>behavioral_outside_home</th>\n",
       "      <th></th>\n",
       "      <th></th>\n",
       "    </tr>\n",
       "  </thead>\n",
       "  <tbody>\n",
       "    <tr>\n",
       "      <th>No</th>\n",
       "      <td>0.206302</td>\n",
       "      <td>0.446497</td>\n",
       "    </tr>\n",
       "    <tr>\n",
       "      <th>Yes</th>\n",
       "      <td>0.225142</td>\n",
       "      <td>0.502951</td>\n",
       "    </tr>\n",
       "    <tr>\n",
       "      <th>missing</th>\n",
       "      <td>0.146341</td>\n",
       "      <td>0.487805</td>\n",
       "    </tr>\n",
       "  </tbody>\n",
       "</table>\n",
       "</div>"
      ],
      "text/plain": [
       "                         h1n1_vaccine  seasonal_vaccine\n",
       "behavioral_outside_home                                \n",
       "No                           0.206302          0.446497\n",
       "Yes                          0.225142          0.502951\n",
       "missing                      0.146341          0.487805"
      ]
     },
     "metadata": {},
     "output_type": "display_data"
    },
    {
     "data": {
      "text/plain": [
       "No         17644\n",
       "Yes         8981\n",
       "missing       82\n",
       "Name: behavioral_outside_home, dtype: int64"
      ]
     },
     "metadata": {},
     "output_type": "display_data"
    },
    {
     "data": {
      "text/html": [
       "<div>\n",
       "<style scoped>\n",
       "    .dataframe tbody tr th:only-of-type {\n",
       "        vertical-align: middle;\n",
       "    }\n",
       "\n",
       "    .dataframe tbody tr th {\n",
       "        vertical-align: top;\n",
       "    }\n",
       "\n",
       "    .dataframe thead th {\n",
       "        text-align: right;\n",
       "    }\n",
       "</style>\n",
       "<table border=\"1\" class=\"dataframe\">\n",
       "  <thead>\n",
       "    <tr style=\"text-align: right;\">\n",
       "      <th></th>\n",
       "      <th>h1n1_vaccine</th>\n",
       "      <th>seasonal_vaccine</th>\n",
       "    </tr>\n",
       "    <tr>\n",
       "      <th>behavioral_touch_face</th>\n",
       "      <th></th>\n",
       "      <th></th>\n",
       "    </tr>\n",
       "  </thead>\n",
       "  <tbody>\n",
       "    <tr>\n",
       "      <th>No</th>\n",
       "      <td>0.170319</td>\n",
       "      <td>0.378643</td>\n",
       "    </tr>\n",
       "    <tr>\n",
       "      <th>Yes</th>\n",
       "      <td>0.233043</td>\n",
       "      <td>0.506916</td>\n",
       "    </tr>\n",
       "    <tr>\n",
       "      <th>missing</th>\n",
       "      <td>0.140625</td>\n",
       "      <td>0.484375</td>\n",
       "    </tr>\n",
       "  </tbody>\n",
       "</table>\n",
       "</div>"
      ],
      "text/plain": [
       "                       h1n1_vaccine  seasonal_vaccine\n",
       "behavioral_touch_face                                \n",
       "No                         0.170319          0.378643\n",
       "Yes                        0.233043          0.506916\n",
       "missing                    0.140625          0.484375"
      ]
     },
     "metadata": {},
     "output_type": "display_data"
    },
    {
     "data": {
      "text/plain": [
       "Yes        18001\n",
       "No          8578\n",
       "missing      128\n",
       "Name: behavioral_touch_face, dtype: int64"
      ]
     },
     "metadata": {},
     "output_type": "display_data"
    },
    {
     "data": {
      "text/html": [
       "<div>\n",
       "<style scoped>\n",
       "    .dataframe tbody tr th:only-of-type {\n",
       "        vertical-align: middle;\n",
       "    }\n",
       "\n",
       "    .dataframe tbody tr th {\n",
       "        vertical-align: top;\n",
       "    }\n",
       "\n",
       "    .dataframe thead th {\n",
       "        text-align: right;\n",
       "    }\n",
       "</style>\n",
       "<table border=\"1\" class=\"dataframe\">\n",
       "  <thead>\n",
       "    <tr style=\"text-align: right;\">\n",
       "      <th></th>\n",
       "      <th>h1n1_vaccine</th>\n",
       "      <th>seasonal_vaccine</th>\n",
       "    </tr>\n",
       "    <tr>\n",
       "      <th>doctor_recc_h1n1</th>\n",
       "      <th></th>\n",
       "      <th></th>\n",
       "    </tr>\n",
       "  </thead>\n",
       "  <tbody>\n",
       "    <tr>\n",
       "      <th>No</th>\n",
       "      <td>0.136371</td>\n",
       "      <td>0.422854</td>\n",
       "    </tr>\n",
       "    <tr>\n",
       "      <th>Yes</th>\n",
       "      <td>0.532359</td>\n",
       "      <td>0.662167</td>\n",
       "    </tr>\n",
       "    <tr>\n",
       "      <th>missing</th>\n",
       "      <td>0.085648</td>\n",
       "      <td>0.352315</td>\n",
       "    </tr>\n",
       "  </tbody>\n",
       "</table>\n",
       "</div>"
      ],
      "text/plain": [
       "                  h1n1_vaccine  seasonal_vaccine\n",
       "doctor_recc_h1n1                                \n",
       "No                    0.136371          0.422854\n",
       "Yes                   0.532359          0.662167\n",
       "missing               0.085648          0.352315"
      ]
     },
     "metadata": {},
     "output_type": "display_data"
    },
    {
     "data": {
      "text/plain": [
       "No         19139\n",
       "Yes         5408\n",
       "missing     2160\n",
       "Name: doctor_recc_h1n1, dtype: int64"
      ]
     },
     "metadata": {},
     "output_type": "display_data"
    },
    {
     "data": {
      "text/html": [
       "<div>\n",
       "<style scoped>\n",
       "    .dataframe tbody tr th:only-of-type {\n",
       "        vertical-align: middle;\n",
       "    }\n",
       "\n",
       "    .dataframe tbody tr th {\n",
       "        vertical-align: top;\n",
       "    }\n",
       "\n",
       "    .dataframe thead th {\n",
       "        text-align: right;\n",
       "    }\n",
       "</style>\n",
       "<table border=\"1\" class=\"dataframe\">\n",
       "  <thead>\n",
       "    <tr style=\"text-align: right;\">\n",
       "      <th></th>\n",
       "      <th>h1n1_vaccine</th>\n",
       "      <th>seasonal_vaccine</th>\n",
       "    </tr>\n",
       "    <tr>\n",
       "      <th>doctor_recc_seasonal</th>\n",
       "      <th></th>\n",
       "      <th></th>\n",
       "    </tr>\n",
       "  </thead>\n",
       "  <tbody>\n",
       "    <tr>\n",
       "      <th>No</th>\n",
       "      <td>0.162280</td>\n",
       "      <td>0.346259</td>\n",
       "    </tr>\n",
       "    <tr>\n",
       "      <th>Yes</th>\n",
       "      <td>0.348283</td>\n",
       "      <td>0.738448</td>\n",
       "    </tr>\n",
       "    <tr>\n",
       "      <th>missing</th>\n",
       "      <td>0.085648</td>\n",
       "      <td>0.352315</td>\n",
       "    </tr>\n",
       "  </tbody>\n",
       "</table>\n",
       "</div>"
      ],
      "text/plain": [
       "                      h1n1_vaccine  seasonal_vaccine\n",
       "doctor_recc_seasonal                                \n",
       "No                        0.162280          0.346259\n",
       "Yes                       0.348283          0.738448\n",
       "missing                   0.085648          0.352315"
      ]
     },
     "metadata": {},
     "output_type": "display_data"
    },
    {
     "data": {
      "text/plain": [
       "No         16453\n",
       "Yes         8094\n",
       "missing     2160\n",
       "Name: doctor_recc_seasonal, dtype: int64"
      ]
     },
     "metadata": {},
     "output_type": "display_data"
    },
    {
     "data": {
      "text/html": [
       "<div>\n",
       "<style scoped>\n",
       "    .dataframe tbody tr th:only-of-type {\n",
       "        vertical-align: middle;\n",
       "    }\n",
       "\n",
       "    .dataframe tbody tr th {\n",
       "        vertical-align: top;\n",
       "    }\n",
       "\n",
       "    .dataframe thead th {\n",
       "        text-align: right;\n",
       "    }\n",
       "</style>\n",
       "<table border=\"1\" class=\"dataframe\">\n",
       "  <thead>\n",
       "    <tr style=\"text-align: right;\">\n",
       "      <th></th>\n",
       "      <th>h1n1_vaccine</th>\n",
       "      <th>seasonal_vaccine</th>\n",
       "    </tr>\n",
       "    <tr>\n",
       "      <th>chronic_med_condition</th>\n",
       "      <th></th>\n",
       "      <th></th>\n",
       "    </tr>\n",
       "  </thead>\n",
       "  <tbody>\n",
       "    <tr>\n",
       "      <th>No</th>\n",
       "      <td>0.188876</td>\n",
       "      <td>0.415104</td>\n",
       "    </tr>\n",
       "    <tr>\n",
       "      <th>Yes</th>\n",
       "      <td>0.275446</td>\n",
       "      <td>0.603567</td>\n",
       "    </tr>\n",
       "    <tr>\n",
       "      <th>missing</th>\n",
       "      <td>0.187436</td>\n",
       "      <td>0.389289</td>\n",
       "    </tr>\n",
       "  </tbody>\n",
       "</table>\n",
       "</div>"
      ],
      "text/plain": [
       "                       h1n1_vaccine  seasonal_vaccine\n",
       "chronic_med_condition                                \n",
       "No                         0.188876          0.415104\n",
       "Yes                        0.275446          0.603567\n",
       "missing                    0.187436          0.389289"
      ]
     },
     "metadata": {},
     "output_type": "display_data"
    },
    {
     "data": {
      "text/plain": [
       "No         18446\n",
       "Yes         7290\n",
       "missing      971\n",
       "Name: chronic_med_condition, dtype: int64"
      ]
     },
     "metadata": {},
     "output_type": "display_data"
    },
    {
     "data": {
      "text/html": [
       "<div>\n",
       "<style scoped>\n",
       "    .dataframe tbody tr th:only-of-type {\n",
       "        vertical-align: middle;\n",
       "    }\n",
       "\n",
       "    .dataframe tbody tr th {\n",
       "        vertical-align: top;\n",
       "    }\n",
       "\n",
       "    .dataframe thead th {\n",
       "        text-align: right;\n",
       "    }\n",
       "</style>\n",
       "<table border=\"1\" class=\"dataframe\">\n",
       "  <thead>\n",
       "    <tr style=\"text-align: right;\">\n",
       "      <th></th>\n",
       "      <th>h1n1_vaccine</th>\n",
       "      <th>seasonal_vaccine</th>\n",
       "    </tr>\n",
       "    <tr>\n",
       "      <th>child_under_6_months</th>\n",
       "      <th></th>\n",
       "      <th></th>\n",
       "    </tr>\n",
       "  </thead>\n",
       "  <tbody>\n",
       "    <tr>\n",
       "      <th>No</th>\n",
       "      <td>0.205272</td>\n",
       "      <td>0.466378</td>\n",
       "    </tr>\n",
       "    <tr>\n",
       "      <th>Yes</th>\n",
       "      <td>0.304958</td>\n",
       "      <td>0.488307</td>\n",
       "    </tr>\n",
       "    <tr>\n",
       "      <th>missing</th>\n",
       "      <td>0.179268</td>\n",
       "      <td>0.384146</td>\n",
       "    </tr>\n",
       "  </tbody>\n",
       "</table>\n",
       "</div>"
      ],
      "text/plain": [
       "                      h1n1_vaccine  seasonal_vaccine\n",
       "child_under_6_months                                \n",
       "No                        0.205272          0.466378\n",
       "Yes                       0.304958          0.488307\n",
       "missing                   0.179268          0.384146"
      ]
     },
     "metadata": {},
     "output_type": "display_data"
    },
    {
     "data": {
      "text/plain": [
       "No         23749\n",
       "Yes         2138\n",
       "missing      820\n",
       "Name: child_under_6_months, dtype: int64"
      ]
     },
     "metadata": {},
     "output_type": "display_data"
    },
    {
     "data": {
      "text/html": [
       "<div>\n",
       "<style scoped>\n",
       "    .dataframe tbody tr th:only-of-type {\n",
       "        vertical-align: middle;\n",
       "    }\n",
       "\n",
       "    .dataframe tbody tr th {\n",
       "        vertical-align: top;\n",
       "    }\n",
       "\n",
       "    .dataframe thead th {\n",
       "        text-align: right;\n",
       "    }\n",
       "</style>\n",
       "<table border=\"1\" class=\"dataframe\">\n",
       "  <thead>\n",
       "    <tr style=\"text-align: right;\">\n",
       "      <th></th>\n",
       "      <th>h1n1_vaccine</th>\n",
       "      <th>seasonal_vaccine</th>\n",
       "    </tr>\n",
       "    <tr>\n",
       "      <th>health_worker</th>\n",
       "      <th></th>\n",
       "      <th></th>\n",
       "    </tr>\n",
       "  </thead>\n",
       "  <tbody>\n",
       "    <tr>\n",
       "      <th>No</th>\n",
       "      <td>0.188793</td>\n",
       "      <td>0.445618</td>\n",
       "    </tr>\n",
       "    <tr>\n",
       "      <th>Yes</th>\n",
       "      <td>0.409452</td>\n",
       "      <td>0.647120</td>\n",
       "    </tr>\n",
       "    <tr>\n",
       "      <th>missing</th>\n",
       "      <td>0.179104</td>\n",
       "      <td>0.383085</td>\n",
       "    </tr>\n",
       "  </tbody>\n",
       "</table>\n",
       "</div>"
      ],
      "text/plain": [
       "               h1n1_vaccine  seasonal_vaccine\n",
       "health_worker                                \n",
       "No                 0.188793          0.445618\n",
       "Yes                0.409452          0.647120\n",
       "missing            0.179104          0.383085"
      ]
     },
     "metadata": {},
     "output_type": "display_data"
    },
    {
     "data": {
      "text/plain": [
       "No         23004\n",
       "Yes         2899\n",
       "missing      804\n",
       "Name: health_worker, dtype: int64"
      ]
     },
     "metadata": {},
     "output_type": "display_data"
    },
    {
     "data": {
      "text/html": [
       "<div>\n",
       "<style scoped>\n",
       "    .dataframe tbody tr th:only-of-type {\n",
       "        vertical-align: middle;\n",
       "    }\n",
       "\n",
       "    .dataframe tbody tr th {\n",
       "        vertical-align: top;\n",
       "    }\n",
       "\n",
       "    .dataframe thead th {\n",
       "        text-align: right;\n",
       "    }\n",
       "</style>\n",
       "<table border=\"1\" class=\"dataframe\">\n",
       "  <thead>\n",
       "    <tr style=\"text-align: right;\">\n",
       "      <th></th>\n",
       "      <th>h1n1_vaccine</th>\n",
       "      <th>seasonal_vaccine</th>\n",
       "    </tr>\n",
       "    <tr>\n",
       "      <th>health_insurance</th>\n",
       "      <th></th>\n",
       "      <th></th>\n",
       "    </tr>\n",
       "  </thead>\n",
       "  <tbody>\n",
       "    <tr>\n",
       "      <th>No</th>\n",
       "      <td>0.147465</td>\n",
       "      <td>0.229263</td>\n",
       "    </tr>\n",
       "    <tr>\n",
       "      <th>Yes</th>\n",
       "      <td>0.317713</td>\n",
       "      <td>0.538001</td>\n",
       "    </tr>\n",
       "    <tr>\n",
       "      <th>missing</th>\n",
       "      <td>0.112759</td>\n",
       "      <td>0.424149</td>\n",
       "    </tr>\n",
       "  </tbody>\n",
       "</table>\n",
       "</div>"
      ],
      "text/plain": [
       "                  h1n1_vaccine  seasonal_vaccine\n",
       "health_insurance                                \n",
       "No                    0.147465          0.229263\n",
       "Yes                   0.317713          0.538001\n",
       "missing               0.112759          0.424149"
      ]
     },
     "metadata": {},
     "output_type": "display_data"
    },
    {
     "data": {
      "text/plain": [
       "Yes        12697\n",
       "missing    12274\n",
       "No          1736\n",
       "Name: health_insurance, dtype: int64"
      ]
     },
     "metadata": {},
     "output_type": "display_data"
    },
    {
     "data": {
      "text/html": [
       "<div>\n",
       "<style scoped>\n",
       "    .dataframe tbody tr th:only-of-type {\n",
       "        vertical-align: middle;\n",
       "    }\n",
       "\n",
       "    .dataframe tbody tr th {\n",
       "        vertical-align: top;\n",
       "    }\n",
       "\n",
       "    .dataframe thead th {\n",
       "        text-align: right;\n",
       "    }\n",
       "</style>\n",
       "<table border=\"1\" class=\"dataframe\">\n",
       "  <thead>\n",
       "    <tr style=\"text-align: right;\">\n",
       "      <th></th>\n",
       "      <th>h1n1_vaccine</th>\n",
       "      <th>seasonal_vaccine</th>\n",
       "    </tr>\n",
       "    <tr>\n",
       "      <th>age_group</th>\n",
       "      <th></th>\n",
       "      <th></th>\n",
       "    </tr>\n",
       "  </thead>\n",
       "  <tbody>\n",
       "    <tr>\n",
       "      <th>18 - 34 Years</th>\n",
       "      <td>0.190029</td>\n",
       "      <td>0.284564</td>\n",
       "    </tr>\n",
       "    <tr>\n",
       "      <th>35 - 44 Years</th>\n",
       "      <td>0.197765</td>\n",
       "      <td>0.362526</td>\n",
       "    </tr>\n",
       "    <tr>\n",
       "      <th>45 - 54 Years</th>\n",
       "      <td>0.194731</td>\n",
       "      <td>0.401298</td>\n",
       "    </tr>\n",
       "    <tr>\n",
       "      <th>55 - 64 Years</th>\n",
       "      <td>0.242855</td>\n",
       "      <td>0.511235</td>\n",
       "    </tr>\n",
       "    <tr>\n",
       "      <th>65+ Years</th>\n",
       "      <td>0.226655</td>\n",
       "      <td>0.673681</td>\n",
       "    </tr>\n",
       "  </tbody>\n",
       "</table>\n",
       "</div>"
      ],
      "text/plain": [
       "               h1n1_vaccine  seasonal_vaccine\n",
       "age_group                                    \n",
       "18 - 34 Years      0.190029          0.284564\n",
       "35 - 44 Years      0.197765          0.362526\n",
       "45 - 54 Years      0.194731          0.401298\n",
       "55 - 64 Years      0.242855          0.511235\n",
       "65+ Years          0.226655          0.673681"
      ]
     },
     "metadata": {},
     "output_type": "display_data"
    },
    {
     "data": {
      "text/plain": [
       "65+ Years        6843\n",
       "55 - 64 Years    5563\n",
       "45 - 54 Years    5238\n",
       "18 - 34 Years    5215\n",
       "35 - 44 Years    3848\n",
       "Name: age_group, dtype: int64"
      ]
     },
     "metadata": {},
     "output_type": "display_data"
    },
    {
     "data": {
      "text/html": [
       "<div>\n",
       "<style scoped>\n",
       "    .dataframe tbody tr th:only-of-type {\n",
       "        vertical-align: middle;\n",
       "    }\n",
       "\n",
       "    .dataframe tbody tr th {\n",
       "        vertical-align: top;\n",
       "    }\n",
       "\n",
       "    .dataframe thead th {\n",
       "        text-align: right;\n",
       "    }\n",
       "</style>\n",
       "<table border=\"1\" class=\"dataframe\">\n",
       "  <thead>\n",
       "    <tr style=\"text-align: right;\">\n",
       "      <th></th>\n",
       "      <th>h1n1_vaccine</th>\n",
       "      <th>seasonal_vaccine</th>\n",
       "    </tr>\n",
       "    <tr>\n",
       "      <th>education</th>\n",
       "      <th></th>\n",
       "      <th></th>\n",
       "    </tr>\n",
       "  </thead>\n",
       "  <tbody>\n",
       "    <tr>\n",
       "      <th>12 Years</th>\n",
       "      <td>0.184751</td>\n",
       "      <td>0.448163</td>\n",
       "    </tr>\n",
       "    <tr>\n",
       "      <th>&lt; 12 Years</th>\n",
       "      <td>0.167160</td>\n",
       "      <td>0.401185</td>\n",
       "    </tr>\n",
       "    <tr>\n",
       "      <th>College Graduate</th>\n",
       "      <td>0.245915</td>\n",
       "      <td>0.511439</td>\n",
       "    </tr>\n",
       "    <tr>\n",
       "      <th>Some College</th>\n",
       "      <td>0.207866</td>\n",
       "      <td>0.451938</td>\n",
       "    </tr>\n",
       "    <tr>\n",
       "      <th>missing</th>\n",
       "      <td>0.185501</td>\n",
       "      <td>0.385217</td>\n",
       "    </tr>\n",
       "  </tbody>\n",
       "</table>\n",
       "</div>"
      ],
      "text/plain": [
       "                  h1n1_vaccine  seasonal_vaccine\n",
       "education                                       \n",
       "12 Years              0.184751          0.448163\n",
       "< 12 Years            0.167160          0.401185\n",
       "College Graduate      0.245915          0.511439\n",
       "Some College          0.207866          0.451938\n",
       "missing               0.185501          0.385217"
      ]
     },
     "metadata": {},
     "output_type": "display_data"
    },
    {
     "data": {
      "text/plain": [
       "College Graduate    10097\n",
       "Some College         7043\n",
       "12 Years             5797\n",
       "< 12 Years           2363\n",
       "missing              1407\n",
       "Name: education, dtype: int64"
      ]
     },
     "metadata": {},
     "output_type": "display_data"
    },
    {
     "data": {
      "text/html": [
       "<div>\n",
       "<style scoped>\n",
       "    .dataframe tbody tr th:only-of-type {\n",
       "        vertical-align: middle;\n",
       "    }\n",
       "\n",
       "    .dataframe tbody tr th {\n",
       "        vertical-align: top;\n",
       "    }\n",
       "\n",
       "    .dataframe thead th {\n",
       "        text-align: right;\n",
       "    }\n",
       "</style>\n",
       "<table border=\"1\" class=\"dataframe\">\n",
       "  <thead>\n",
       "    <tr style=\"text-align: right;\">\n",
       "      <th></th>\n",
       "      <th>h1n1_vaccine</th>\n",
       "      <th>seasonal_vaccine</th>\n",
       "    </tr>\n",
       "    <tr>\n",
       "      <th>race</th>\n",
       "      <th></th>\n",
       "      <th></th>\n",
       "    </tr>\n",
       "  </thead>\n",
       "  <tbody>\n",
       "    <tr>\n",
       "      <th>Black</th>\n",
       "      <td>0.148725</td>\n",
       "      <td>0.349858</td>\n",
       "    </tr>\n",
       "    <tr>\n",
       "      <th>Hispanic</th>\n",
       "      <td>0.207977</td>\n",
       "      <td>0.339601</td>\n",
       "    </tr>\n",
       "    <tr>\n",
       "      <th>Other or Multiple</th>\n",
       "      <td>0.216501</td>\n",
       "      <td>0.419975</td>\n",
       "    </tr>\n",
       "    <tr>\n",
       "      <th>White</th>\n",
       "      <td>0.218877</td>\n",
       "      <td>0.491047</td>\n",
       "    </tr>\n",
       "  </tbody>\n",
       "</table>\n",
       "</div>"
      ],
      "text/plain": [
       "                   h1n1_vaccine  seasonal_vaccine\n",
       "race                                             \n",
       "Black                  0.148725          0.349858\n",
       "Hispanic               0.207977          0.339601\n",
       "Other or Multiple      0.216501          0.419975\n",
       "White                  0.218877          0.491047"
      ]
     },
     "metadata": {},
     "output_type": "display_data"
    },
    {
     "data": {
      "text/plain": [
       "White                21222\n",
       "Black                 2118\n",
       "Hispanic              1755\n",
       "Other or Multiple     1612\n",
       "Name: race, dtype: int64"
      ]
     },
     "metadata": {},
     "output_type": "display_data"
    },
    {
     "data": {
      "text/html": [
       "<div>\n",
       "<style scoped>\n",
       "    .dataframe tbody tr th:only-of-type {\n",
       "        vertical-align: middle;\n",
       "    }\n",
       "\n",
       "    .dataframe tbody tr th {\n",
       "        vertical-align: top;\n",
       "    }\n",
       "\n",
       "    .dataframe thead th {\n",
       "        text-align: right;\n",
       "    }\n",
       "</style>\n",
       "<table border=\"1\" class=\"dataframe\">\n",
       "  <thead>\n",
       "    <tr style=\"text-align: right;\">\n",
       "      <th></th>\n",
       "      <th>h1n1_vaccine</th>\n",
       "      <th>seasonal_vaccine</th>\n",
       "    </tr>\n",
       "    <tr>\n",
       "      <th>sex</th>\n",
       "      <th></th>\n",
       "      <th></th>\n",
       "    </tr>\n",
       "  </thead>\n",
       "  <tbody>\n",
       "    <tr>\n",
       "      <th>Female</th>\n",
       "      <td>0.219448</td>\n",
       "      <td>0.497415</td>\n",
       "    </tr>\n",
       "    <tr>\n",
       "      <th>Male</th>\n",
       "      <td>0.202231</td>\n",
       "      <td>0.419117</td>\n",
       "    </tr>\n",
       "  </tbody>\n",
       "</table>\n",
       "</div>"
      ],
      "text/plain": [
       "        h1n1_vaccine  seasonal_vaccine\n",
       "sex                                   \n",
       "Female      0.219448          0.497415\n",
       "Male        0.202231          0.419117"
      ]
     },
     "metadata": {},
     "output_type": "display_data"
    },
    {
     "data": {
      "text/plain": [
       "Female    15858\n",
       "Male      10849\n",
       "Name: sex, dtype: int64"
      ]
     },
     "metadata": {},
     "output_type": "display_data"
    },
    {
     "data": {
      "text/html": [
       "<div>\n",
       "<style scoped>\n",
       "    .dataframe tbody tr th:only-of-type {\n",
       "        vertical-align: middle;\n",
       "    }\n",
       "\n",
       "    .dataframe tbody tr th {\n",
       "        vertical-align: top;\n",
       "    }\n",
       "\n",
       "    .dataframe thead th {\n",
       "        text-align: right;\n",
       "    }\n",
       "</style>\n",
       "<table border=\"1\" class=\"dataframe\">\n",
       "  <thead>\n",
       "    <tr style=\"text-align: right;\">\n",
       "      <th></th>\n",
       "      <th>h1n1_vaccine</th>\n",
       "      <th>seasonal_vaccine</th>\n",
       "    </tr>\n",
       "    <tr>\n",
       "      <th>income_poverty</th>\n",
       "      <th></th>\n",
       "      <th></th>\n",
       "    </tr>\n",
       "  </thead>\n",
       "  <tbody>\n",
       "    <tr>\n",
       "      <th>&lt;= $75,000, Above Poverty</th>\n",
       "      <td>0.203412</td>\n",
       "      <td>0.476716</td>\n",
       "    </tr>\n",
       "    <tr>\n",
       "      <th>&gt; $75,000</th>\n",
       "      <td>0.253010</td>\n",
       "      <td>0.496769</td>\n",
       "    </tr>\n",
       "    <tr>\n",
       "      <th>Below Poverty</th>\n",
       "      <td>0.191324</td>\n",
       "      <td>0.362625</td>\n",
       "    </tr>\n",
       "    <tr>\n",
       "      <th>missing</th>\n",
       "      <td>0.189012</td>\n",
       "      <td>0.448338</td>\n",
       "    </tr>\n",
       "  </tbody>\n",
       "</table>\n",
       "</div>"
      ],
      "text/plain": [
       "                           h1n1_vaccine  seasonal_vaccine\n",
       "income_poverty                                           \n",
       "<= $75,000, Above Poverty      0.203412          0.476716\n",
       "> $75,000                      0.253010          0.496769\n",
       "Below Poverty                  0.191324          0.362625\n",
       "missing                        0.189012          0.448338"
      ]
     },
     "metadata": {},
     "output_type": "display_data"
    },
    {
     "data": {
      "text/plain": [
       "<= $75,000, Above Poverty    12777\n",
       "> $75,000                     6810\n",
       "missing                       4423\n",
       "Below Poverty                 2697\n",
       "Name: income_poverty, dtype: int64"
      ]
     },
     "metadata": {},
     "output_type": "display_data"
    },
    {
     "data": {
      "text/html": [
       "<div>\n",
       "<style scoped>\n",
       "    .dataframe tbody tr th:only-of-type {\n",
       "        vertical-align: middle;\n",
       "    }\n",
       "\n",
       "    .dataframe tbody tr th {\n",
       "        vertical-align: top;\n",
       "    }\n",
       "\n",
       "    .dataframe thead th {\n",
       "        text-align: right;\n",
       "    }\n",
       "</style>\n",
       "<table border=\"1\" class=\"dataframe\">\n",
       "  <thead>\n",
       "    <tr style=\"text-align: right;\">\n",
       "      <th></th>\n",
       "      <th>h1n1_vaccine</th>\n",
       "      <th>seasonal_vaccine</th>\n",
       "    </tr>\n",
       "    <tr>\n",
       "      <th>marital_status</th>\n",
       "      <th></th>\n",
       "      <th></th>\n",
       "    </tr>\n",
       "  </thead>\n",
       "  <tbody>\n",
       "    <tr>\n",
       "      <th>Married</th>\n",
       "      <td>0.233714</td>\n",
       "      <td>0.494209</td>\n",
       "    </tr>\n",
       "    <tr>\n",
       "      <th>Not Married</th>\n",
       "      <td>0.191587</td>\n",
       "      <td>0.441757</td>\n",
       "    </tr>\n",
       "    <tr>\n",
       "      <th>missing</th>\n",
       "      <td>0.181818</td>\n",
       "      <td>0.389205</td>\n",
       "    </tr>\n",
       "  </tbody>\n",
       "</table>\n",
       "</div>"
      ],
      "text/plain": [
       "                h1n1_vaccine  seasonal_vaccine\n",
       "marital_status                                \n",
       "Married             0.233714          0.494209\n",
       "Not Married         0.191587          0.441757\n",
       "missing             0.181818          0.389205"
      ]
     },
     "metadata": {},
     "output_type": "display_data"
    },
    {
     "data": {
      "text/plain": [
       "Married        13555\n",
       "Not Married    11744\n",
       "missing         1408\n",
       "Name: marital_status, dtype: int64"
      ]
     },
     "metadata": {},
     "output_type": "display_data"
    },
    {
     "data": {
      "text/html": [
       "<div>\n",
       "<style scoped>\n",
       "    .dataframe tbody tr th:only-of-type {\n",
       "        vertical-align: middle;\n",
       "    }\n",
       "\n",
       "    .dataframe tbody tr th {\n",
       "        vertical-align: top;\n",
       "    }\n",
       "\n",
       "    .dataframe thead th {\n",
       "        text-align: right;\n",
       "    }\n",
       "</style>\n",
       "<table border=\"1\" class=\"dataframe\">\n",
       "  <thead>\n",
       "    <tr style=\"text-align: right;\">\n",
       "      <th></th>\n",
       "      <th>h1n1_vaccine</th>\n",
       "      <th>seasonal_vaccine</th>\n",
       "    </tr>\n",
       "    <tr>\n",
       "      <th>rent_or_own</th>\n",
       "      <th></th>\n",
       "      <th></th>\n",
       "    </tr>\n",
       "  </thead>\n",
       "  <tbody>\n",
       "    <tr>\n",
       "      <th>Own</th>\n",
       "      <td>0.221979</td>\n",
       "      <td>0.500747</td>\n",
       "    </tr>\n",
       "    <tr>\n",
       "      <th>Rent</th>\n",
       "      <td>0.188733</td>\n",
       "      <td>0.370552</td>\n",
       "    </tr>\n",
       "    <tr>\n",
       "      <th>missing</th>\n",
       "      <td>0.193928</td>\n",
       "      <td>0.419197</td>\n",
       "    </tr>\n",
       "  </tbody>\n",
       "</table>\n",
       "</div>"
      ],
      "text/plain": [
       "             h1n1_vaccine  seasonal_vaccine\n",
       "rent_or_own                                \n",
       "Own              0.221979          0.500747\n",
       "Rent             0.188733          0.370552\n",
       "missing          0.193928          0.419197"
      ]
     },
     "metadata": {},
     "output_type": "display_data"
    },
    {
     "data": {
      "text/plain": [
       "Own        18736\n",
       "Rent        5929\n",
       "missing     2042\n",
       "Name: rent_or_own, dtype: int64"
      ]
     },
     "metadata": {},
     "output_type": "display_data"
    },
    {
     "data": {
      "text/html": [
       "<div>\n",
       "<style scoped>\n",
       "    .dataframe tbody tr th:only-of-type {\n",
       "        vertical-align: middle;\n",
       "    }\n",
       "\n",
       "    .dataframe tbody tr th {\n",
       "        vertical-align: top;\n",
       "    }\n",
       "\n",
       "    .dataframe thead th {\n",
       "        text-align: right;\n",
       "    }\n",
       "</style>\n",
       "<table border=\"1\" class=\"dataframe\">\n",
       "  <thead>\n",
       "    <tr style=\"text-align: right;\">\n",
       "      <th></th>\n",
       "      <th>h1n1_vaccine</th>\n",
       "      <th>seasonal_vaccine</th>\n",
       "    </tr>\n",
       "    <tr>\n",
       "      <th>employment_status</th>\n",
       "      <th></th>\n",
       "      <th></th>\n",
       "    </tr>\n",
       "  </thead>\n",
       "  <tbody>\n",
       "    <tr>\n",
       "      <th>Employed</th>\n",
       "      <td>0.215560</td>\n",
       "      <td>0.421903</td>\n",
       "    </tr>\n",
       "    <tr>\n",
       "      <th>Not in Labor Force</th>\n",
       "      <td>0.219236</td>\n",
       "      <td>0.557912</td>\n",
       "    </tr>\n",
       "    <tr>\n",
       "      <th>Unemployed</th>\n",
       "      <td>0.163111</td>\n",
       "      <td>0.302134</td>\n",
       "    </tr>\n",
       "    <tr>\n",
       "      <th>missing</th>\n",
       "      <td>0.185236</td>\n",
       "      <td>0.387560</td>\n",
       "    </tr>\n",
       "  </tbody>\n",
       "</table>\n",
       "</div>"
      ],
      "text/plain": [
       "                    h1n1_vaccine  seasonal_vaccine\n",
       "employment_status                                 \n",
       "Employed                0.215560          0.421903\n",
       "Not in Labor Force      0.219236          0.557912\n",
       "Unemployed              0.163111          0.302134\n",
       "missing                 0.185236          0.387560"
      ]
     },
     "metadata": {},
     "output_type": "display_data"
    },
    {
     "data": {
      "text/plain": [
       "Employed              13560\n",
       "Not in Labor Force    10231\n",
       "missing                1463\n",
       "Unemployed             1453\n",
       "Name: employment_status, dtype: int64"
      ]
     },
     "metadata": {},
     "output_type": "display_data"
    },
    {
     "data": {
      "text/html": [
       "<div>\n",
       "<style scoped>\n",
       "    .dataframe tbody tr th:only-of-type {\n",
       "        vertical-align: middle;\n",
       "    }\n",
       "\n",
       "    .dataframe tbody tr th {\n",
       "        vertical-align: top;\n",
       "    }\n",
       "\n",
       "    .dataframe thead th {\n",
       "        text-align: right;\n",
       "    }\n",
       "</style>\n",
       "<table border=\"1\" class=\"dataframe\">\n",
       "  <thead>\n",
       "    <tr style=\"text-align: right;\">\n",
       "      <th></th>\n",
       "      <th>h1n1_vaccine</th>\n",
       "      <th>seasonal_vaccine</th>\n",
       "    </tr>\n",
       "    <tr>\n",
       "      <th>hhs_geo_region</th>\n",
       "      <th></th>\n",
       "      <th></th>\n",
       "    </tr>\n",
       "  </thead>\n",
       "  <tbody>\n",
       "    <tr>\n",
       "      <th>atmpeygn</th>\n",
       "      <td>0.217413</td>\n",
       "      <td>0.492868</td>\n",
       "    </tr>\n",
       "    <tr>\n",
       "      <th>bhuqouqj</th>\n",
       "      <td>0.258609</td>\n",
       "      <td>0.496486</td>\n",
       "    </tr>\n",
       "    <tr>\n",
       "      <th>dqpwygqj</th>\n",
       "      <td>0.171403</td>\n",
       "      <td>0.434281</td>\n",
       "    </tr>\n",
       "    <tr>\n",
       "      <th>fpwskwrf</th>\n",
       "      <td>0.201531</td>\n",
       "      <td>0.474119</td>\n",
       "    </tr>\n",
       "    <tr>\n",
       "      <th>kbazzjca</th>\n",
       "      <td>0.198390</td>\n",
       "      <td>0.481456</td>\n",
       "    </tr>\n",
       "    <tr>\n",
       "      <th>lrircsnp</th>\n",
       "      <td>0.210298</td>\n",
       "      <td>0.413378</td>\n",
       "    </tr>\n",
       "    <tr>\n",
       "      <th>lzgpxyit</th>\n",
       "      <td>0.180126</td>\n",
       "      <td>0.453340</td>\n",
       "    </tr>\n",
       "    <tr>\n",
       "      <th>mlyzmhmf</th>\n",
       "      <td>0.230495</td>\n",
       "      <td>0.449398</td>\n",
       "    </tr>\n",
       "    <tr>\n",
       "      <th>oxchjgsf</th>\n",
       "      <td>0.230850</td>\n",
       "      <td>0.468346</td>\n",
       "    </tr>\n",
       "    <tr>\n",
       "      <th>qufhixun</th>\n",
       "      <td>0.222437</td>\n",
       "      <td>0.468407</td>\n",
       "    </tr>\n",
       "  </tbody>\n",
       "</table>\n",
       "</div>"
      ],
      "text/plain": [
       "                h1n1_vaccine  seasonal_vaccine\n",
       "hhs_geo_region                                \n",
       "atmpeygn            0.217413          0.492868\n",
       "bhuqouqj            0.258609          0.496486\n",
       "dqpwygqj            0.171403          0.434281\n",
       "fpwskwrf            0.201531          0.474119\n",
       "kbazzjca            0.198390          0.481456\n",
       "lrircsnp            0.210298          0.413378\n",
       "lzgpxyit            0.180126          0.453340\n",
       "mlyzmhmf            0.230495          0.449398\n",
       "oxchjgsf            0.230850          0.468346\n",
       "qufhixun            0.222437          0.468407"
      ]
     },
     "metadata": {},
     "output_type": "display_data"
    },
    {
     "data": {
      "text/plain": [
       "lzgpxyit    4297\n",
       "fpwskwrf    3265\n",
       "qufhixun    3102\n",
       "oxchjgsf    2859\n",
       "kbazzjca    2858\n",
       "bhuqouqj    2846\n",
       "mlyzmhmf    2243\n",
       "lrircsnp    2078\n",
       "atmpeygn    2033\n",
       "dqpwygqj    1126\n",
       "Name: hhs_geo_region, dtype: int64"
      ]
     },
     "metadata": {},
     "output_type": "display_data"
    },
    {
     "data": {
      "text/html": [
       "<div>\n",
       "<style scoped>\n",
       "    .dataframe tbody tr th:only-of-type {\n",
       "        vertical-align: middle;\n",
       "    }\n",
       "\n",
       "    .dataframe tbody tr th {\n",
       "        vertical-align: top;\n",
       "    }\n",
       "\n",
       "    .dataframe thead th {\n",
       "        text-align: right;\n",
       "    }\n",
       "</style>\n",
       "<table border=\"1\" class=\"dataframe\">\n",
       "  <thead>\n",
       "    <tr style=\"text-align: right;\">\n",
       "      <th></th>\n",
       "      <th>h1n1_vaccine</th>\n",
       "      <th>seasonal_vaccine</th>\n",
       "    </tr>\n",
       "    <tr>\n",
       "      <th>census_msa</th>\n",
       "      <th></th>\n",
       "      <th></th>\n",
       "    </tr>\n",
       "  </thead>\n",
       "  <tbody>\n",
       "    <tr>\n",
       "      <th>MSA, Not Principle  City</th>\n",
       "      <td>0.211851</td>\n",
       "      <td>0.478231</td>\n",
       "    </tr>\n",
       "    <tr>\n",
       "      <th>MSA, Principle City</th>\n",
       "      <td>0.213759</td>\n",
       "      <td>0.453713</td>\n",
       "    </tr>\n",
       "    <tr>\n",
       "      <th>Non-MSA</th>\n",
       "      <td>0.212003</td>\n",
       "      <td>0.458183</td>\n",
       "    </tr>\n",
       "  </tbody>\n",
       "</table>\n",
       "</div>"
      ],
      "text/plain": [
       "                          h1n1_vaccine  seasonal_vaccine\n",
       "census_msa                                              \n",
       "MSA, Not Principle  City      0.211851          0.478231\n",
       "MSA, Principle City           0.213759          0.453713\n",
       "Non-MSA                       0.212003          0.458183"
      ]
     },
     "metadata": {},
     "output_type": "display_data"
    },
    {
     "data": {
      "text/plain": [
       "MSA, Not Principle  City    11645\n",
       "MSA, Principle City          7864\n",
       "Non-MSA                      7198\n",
       "Name: census_msa, dtype: int64"
      ]
     },
     "metadata": {},
     "output_type": "display_data"
    },
    {
     "data": {
      "text/html": [
       "<div>\n",
       "<style scoped>\n",
       "    .dataframe tbody tr th:only-of-type {\n",
       "        vertical-align: middle;\n",
       "    }\n",
       "\n",
       "    .dataframe tbody tr th {\n",
       "        vertical-align: top;\n",
       "    }\n",
       "\n",
       "    .dataframe thead th {\n",
       "        text-align: right;\n",
       "    }\n",
       "</style>\n",
       "<table border=\"1\" class=\"dataframe\">\n",
       "  <thead>\n",
       "    <tr style=\"text-align: right;\">\n",
       "      <th></th>\n",
       "      <th>h1n1_vaccine</th>\n",
       "      <th>seasonal_vaccine</th>\n",
       "    </tr>\n",
       "    <tr>\n",
       "      <th>employment_industry</th>\n",
       "      <th></th>\n",
       "      <th></th>\n",
       "    </tr>\n",
       "  </thead>\n",
       "  <tbody>\n",
       "    <tr>\n",
       "      <th>arjwrbjb</th>\n",
       "      <td>0.238806</td>\n",
       "      <td>0.460390</td>\n",
       "    </tr>\n",
       "    <tr>\n",
       "      <th>atmlpfrs</th>\n",
       "      <td>0.133909</td>\n",
       "      <td>0.374730</td>\n",
       "    </tr>\n",
       "    <tr>\n",
       "      <th>cfqqtusy</th>\n",
       "      <td>0.144615</td>\n",
       "      <td>0.363077</td>\n",
       "    </tr>\n",
       "    <tr>\n",
       "      <th>dotnnunm</th>\n",
       "      <td>0.109453</td>\n",
       "      <td>0.353234</td>\n",
       "    </tr>\n",
       "    <tr>\n",
       "      <th>fcxhlnwr</th>\n",
       "      <td>0.397893</td>\n",
       "      <td>0.638169</td>\n",
       "    </tr>\n",
       "    <tr>\n",
       "      <th>haxffmxo</th>\n",
       "      <td>0.621622</td>\n",
       "      <td>0.844595</td>\n",
       "    </tr>\n",
       "    <tr>\n",
       "      <th>ldnlellj</th>\n",
       "      <td>0.172218</td>\n",
       "      <td>0.380991</td>\n",
       "    </tr>\n",
       "    <tr>\n",
       "      <th>mcubkhph</th>\n",
       "      <td>0.134545</td>\n",
       "      <td>0.301818</td>\n",
       "    </tr>\n",
       "    <tr>\n",
       "      <th>mfikgejo</th>\n",
       "      <td>0.162866</td>\n",
       "      <td>0.436482</td>\n",
       "    </tr>\n",
       "    <tr>\n",
       "      <th>missing</th>\n",
       "      <td>0.207877</td>\n",
       "      <td>0.508102</td>\n",
       "    </tr>\n",
       "    <tr>\n",
       "      <th>msuufmds</th>\n",
       "      <td>0.145161</td>\n",
       "      <td>0.459677</td>\n",
       "    </tr>\n",
       "    <tr>\n",
       "      <th>nduyfdeo</th>\n",
       "      <td>0.171329</td>\n",
       "      <td>0.307692</td>\n",
       "    </tr>\n",
       "    <tr>\n",
       "      <th>phxvnwax</th>\n",
       "      <td>0.168539</td>\n",
       "      <td>0.348315</td>\n",
       "    </tr>\n",
       "    <tr>\n",
       "      <th>pxcmvdjn</th>\n",
       "      <td>0.137898</td>\n",
       "      <td>0.352941</td>\n",
       "    </tr>\n",
       "    <tr>\n",
       "      <th>qnlwzans</th>\n",
       "      <td>0.230769</td>\n",
       "      <td>0.538462</td>\n",
       "    </tr>\n",
       "    <tr>\n",
       "      <th>rucpziij</th>\n",
       "      <td>0.141491</td>\n",
       "      <td>0.233270</td>\n",
       "    </tr>\n",
       "    <tr>\n",
       "      <th>saaquncn</th>\n",
       "      <td>0.171598</td>\n",
       "      <td>0.295858</td>\n",
       "    </tr>\n",
       "    <tr>\n",
       "      <th>vjjrobsf</th>\n",
       "      <td>0.134725</td>\n",
       "      <td>0.309298</td>\n",
       "    </tr>\n",
       "    <tr>\n",
       "      <th>wlfvacwt</th>\n",
       "      <td>0.134884</td>\n",
       "      <td>0.390698</td>\n",
       "    </tr>\n",
       "    <tr>\n",
       "      <th>wxleyezf</th>\n",
       "      <td>0.245565</td>\n",
       "      <td>0.453991</td>\n",
       "    </tr>\n",
       "    <tr>\n",
       "      <th>xicduogh</th>\n",
       "      <td>0.123384</td>\n",
       "      <td>0.240893</td>\n",
       "    </tr>\n",
       "    <tr>\n",
       "      <th>xqicxuve</th>\n",
       "      <td>0.138943</td>\n",
       "      <td>0.318982</td>\n",
       "    </tr>\n",
       "  </tbody>\n",
       "</table>\n",
       "</div>"
      ],
      "text/plain": [
       "                     h1n1_vaccine  seasonal_vaccine\n",
       "employment_industry                                \n",
       "arjwrbjb                 0.238806          0.460390\n",
       "atmlpfrs                 0.133909          0.374730\n",
       "cfqqtusy                 0.144615          0.363077\n",
       "dotnnunm                 0.109453          0.353234\n",
       "fcxhlnwr                 0.397893          0.638169\n",
       "haxffmxo                 0.621622          0.844595\n",
       "ldnlellj                 0.172218          0.380991\n",
       "mcubkhph                 0.134545          0.301818\n",
       "mfikgejo                 0.162866          0.436482\n",
       "missing                  0.207877          0.508102\n",
       "msuufmds                 0.145161          0.459677\n",
       "nduyfdeo                 0.171329          0.307692\n",
       "phxvnwax                 0.168539          0.348315\n",
       "pxcmvdjn                 0.137898          0.352941\n",
       "qnlwzans                 0.230769          0.538462\n",
       "rucpziij                 0.141491          0.233270\n",
       "saaquncn                 0.171598          0.295858\n",
       "vjjrobsf                 0.134725          0.309298\n",
       "wlfvacwt                 0.134884          0.390698\n",
       "wxleyezf                 0.245565          0.453991\n",
       "xicduogh                 0.123384          0.240893\n",
       "xqicxuve                 0.138943          0.318982"
      ]
     },
     "metadata": {},
     "output_type": "display_data"
    },
    {
     "data": {
      "text/plain": [
       "missing     13330\n",
       "fcxhlnwr     2468\n",
       "wxleyezf     1804\n",
       "ldnlellj     1231\n",
       "pxcmvdjn     1037\n",
       "atmlpfrs      926\n",
       "arjwrbjb      871\n",
       "xicduogh      851\n",
       "mfikgejo      614\n",
       "vjjrobsf      527\n",
       "rucpziij      523\n",
       "xqicxuve      511\n",
       "saaquncn      338\n",
       "cfqqtusy      325\n",
       "nduyfdeo      286\n",
       "mcubkhph      275\n",
       "wlfvacwt      215\n",
       "dotnnunm      201\n",
       "haxffmxo      148\n",
       "msuufmds      124\n",
       "phxvnwax       89\n",
       "qnlwzans       13\n",
       "Name: employment_industry, dtype: int64"
      ]
     },
     "metadata": {},
     "output_type": "display_data"
    },
    {
     "data": {
      "text/html": [
       "<div>\n",
       "<style scoped>\n",
       "    .dataframe tbody tr th:only-of-type {\n",
       "        vertical-align: middle;\n",
       "    }\n",
       "\n",
       "    .dataframe tbody tr th {\n",
       "        vertical-align: top;\n",
       "    }\n",
       "\n",
       "    .dataframe thead th {\n",
       "        text-align: right;\n",
       "    }\n",
       "</style>\n",
       "<table border=\"1\" class=\"dataframe\">\n",
       "  <thead>\n",
       "    <tr style=\"text-align: right;\">\n",
       "      <th></th>\n",
       "      <th>h1n1_vaccine</th>\n",
       "      <th>seasonal_vaccine</th>\n",
       "    </tr>\n",
       "    <tr>\n",
       "      <th>employment_occupation</th>\n",
       "      <th></th>\n",
       "      <th></th>\n",
       "    </tr>\n",
       "  </thead>\n",
       "  <tbody>\n",
       "    <tr>\n",
       "      <th>bxpfxfdn</th>\n",
       "      <td>0.268882</td>\n",
       "      <td>0.453172</td>\n",
       "    </tr>\n",
       "    <tr>\n",
       "      <th>ccgxvspp</th>\n",
       "      <td>0.149560</td>\n",
       "      <td>0.351906</td>\n",
       "    </tr>\n",
       "    <tr>\n",
       "      <th>cmhcxjea</th>\n",
       "      <td>0.470730</td>\n",
       "      <td>0.688051</td>\n",
       "    </tr>\n",
       "    <tr>\n",
       "      <th>dcjcmpih</th>\n",
       "      <td>0.621622</td>\n",
       "      <td>0.844595</td>\n",
       "    </tr>\n",
       "    <tr>\n",
       "      <th>dlvbwzss</th>\n",
       "      <td>0.277533</td>\n",
       "      <td>0.422907</td>\n",
       "    </tr>\n",
       "    <tr>\n",
       "      <th>emcorrxb</th>\n",
       "      <td>0.236220</td>\n",
       "      <td>0.456693</td>\n",
       "    </tr>\n",
       "    <tr>\n",
       "      <th>haliazsg</th>\n",
       "      <td>0.364865</td>\n",
       "      <td>0.594595</td>\n",
       "    </tr>\n",
       "    <tr>\n",
       "      <th>hfxkjkmi</th>\n",
       "      <td>0.160574</td>\n",
       "      <td>0.428198</td>\n",
       "    </tr>\n",
       "    <tr>\n",
       "      <th>hodpvpew</th>\n",
       "      <td>0.250000</td>\n",
       "      <td>0.451923</td>\n",
       "    </tr>\n",
       "    <tr>\n",
       "      <th>kldqjyjy</th>\n",
       "      <td>0.206823</td>\n",
       "      <td>0.394456</td>\n",
       "    </tr>\n",
       "    <tr>\n",
       "      <th>missing</th>\n",
       "      <td>0.208909</td>\n",
       "      <td>0.508389</td>\n",
       "    </tr>\n",
       "    <tr>\n",
       "      <th>mxkfnird</th>\n",
       "      <td>0.176938</td>\n",
       "      <td>0.436050</td>\n",
       "    </tr>\n",
       "    <tr>\n",
       "      <th>oijqvulv</th>\n",
       "      <td>0.186047</td>\n",
       "      <td>0.369186</td>\n",
       "    </tr>\n",
       "    <tr>\n",
       "      <th>pvmttkik</th>\n",
       "      <td>0.142857</td>\n",
       "      <td>0.285714</td>\n",
       "    </tr>\n",
       "    <tr>\n",
       "      <th>qxajmpny</th>\n",
       "      <td>0.107664</td>\n",
       "      <td>0.200730</td>\n",
       "    </tr>\n",
       "    <tr>\n",
       "      <th>rcertsgn</th>\n",
       "      <td>0.090580</td>\n",
       "      <td>0.318841</td>\n",
       "    </tr>\n",
       "    <tr>\n",
       "      <th>tfqavkke</th>\n",
       "      <td>0.144330</td>\n",
       "      <td>0.280928</td>\n",
       "    </tr>\n",
       "    <tr>\n",
       "      <th>ukymxvdu</th>\n",
       "      <td>0.188172</td>\n",
       "      <td>0.346774</td>\n",
       "    </tr>\n",
       "    <tr>\n",
       "      <th>uqqtjvyb</th>\n",
       "      <td>0.119469</td>\n",
       "      <td>0.252212</td>\n",
       "    </tr>\n",
       "    <tr>\n",
       "      <th>vlluhbov</th>\n",
       "      <td>0.189266</td>\n",
       "      <td>0.358757</td>\n",
       "    </tr>\n",
       "    <tr>\n",
       "      <th>xgwztkwe</th>\n",
       "      <td>0.133087</td>\n",
       "      <td>0.336414</td>\n",
       "    </tr>\n",
       "    <tr>\n",
       "      <th>xqwwgdyp</th>\n",
       "      <td>0.142268</td>\n",
       "      <td>0.329897</td>\n",
       "    </tr>\n",
       "    <tr>\n",
       "      <th>xtkaffoo</th>\n",
       "      <td>0.203600</td>\n",
       "      <td>0.418448</td>\n",
       "    </tr>\n",
       "    <tr>\n",
       "      <th>xzmlyyjv</th>\n",
       "      <td>0.189516</td>\n",
       "      <td>0.471774</td>\n",
       "    </tr>\n",
       "  </tbody>\n",
       "</table>\n",
       "</div>"
      ],
      "text/plain": [
       "                       h1n1_vaccine  seasonal_vaccine\n",
       "employment_occupation                                \n",
       "bxpfxfdn                   0.268882          0.453172\n",
       "ccgxvspp                   0.149560          0.351906\n",
       "cmhcxjea                   0.470730          0.688051\n",
       "dcjcmpih                   0.621622          0.844595\n",
       "dlvbwzss                   0.277533          0.422907\n",
       "emcorrxb                   0.236220          0.456693\n",
       "haliazsg                   0.364865          0.594595\n",
       "hfxkjkmi                   0.160574          0.428198\n",
       "hodpvpew                   0.250000          0.451923\n",
       "kldqjyjy                   0.206823          0.394456\n",
       "missing                    0.208909          0.508389\n",
       "mxkfnird                   0.176938          0.436050\n",
       "oijqvulv                   0.186047          0.369186\n",
       "pvmttkik                   0.142857          0.285714\n",
       "qxajmpny                   0.107664          0.200730\n",
       "rcertsgn                   0.090580          0.318841\n",
       "tfqavkke                   0.144330          0.280928\n",
       "ukymxvdu                   0.188172          0.346774\n",
       "uqqtjvyb                   0.119469          0.252212\n",
       "vlluhbov                   0.189266          0.358757\n",
       "xgwztkwe                   0.133087          0.336414\n",
       "xqwwgdyp                   0.142268          0.329897\n",
       "xtkaffoo                   0.203600          0.418448\n",
       "xzmlyyjv                   0.189516          0.471774"
      ]
     },
     "metadata": {},
     "output_type": "display_data"
    },
    {
     "data": {
      "text/plain": [
       "missing     13470\n",
       "xtkaffoo     1778\n",
       "mxkfnird     1509\n",
       "emcorrxb     1270\n",
       "cmhcxjea     1247\n",
       "xgwztkwe     1082\n",
       "hfxkjkmi      766\n",
       "qxajmpny      548\n",
       "xqwwgdyp      485\n",
       "kldqjyjy      469\n",
       "uqqtjvyb      452\n",
       "tfqavkke      388\n",
       "ukymxvdu      372\n",
       "vlluhbov      354\n",
       "oijqvulv      344\n",
       "ccgxvspp      341\n",
       "bxpfxfdn      331\n",
       "haliazsg      296\n",
       "rcertsgn      276\n",
       "xzmlyyjv      248\n",
       "dlvbwzss      227\n",
       "hodpvpew      208\n",
       "dcjcmpih      148\n",
       "pvmttkik       98\n",
       "Name: employment_occupation, dtype: int64"
      ]
     },
     "metadata": {},
     "output_type": "display_data"
    }
   ],
   "source": [
    "for col in object_cols:\n",
    "    display((data.groupby(col)[['h1n1_vaccine', 'seasonal_vaccine']].sum()/data.groupby(col)[['h1n1_vaccine', 'seasonal_vaccine']].count()))\n",
    "    display(data[col].value_counts())"
   ]
  },
  {
   "cell_type": "markdown",
   "id": "33039fc4",
   "metadata": {},
   "source": [
    "Looking at the proportions of those with the h1n1 vaccine and those with the seasonal vaccine across the different groups, it appears that most of our features may be helpful in predicting whether an individual has the h1n1 or seasonal vaccine. For example, looking at `behavioral_antiviral_meds`, those who have not take behavioral antiviral meds appear to have a lower h1n1 vaccination rate than those who answered \"yes\". Also those who did not answer have even higher vaccination rates. The difference between seasonal vaccination rates between those who answered is less significant. That being said, relatively few people answered \"yes\". For the most part the vaccination rates of those with some missing data differed quite a bit from other categories. For this reason it might be useful to keep missing data labeled as missing rather than imputing. \n",
    "\n",
    "Some features that seem especially significant are `doctor_recc_h1n1` and `doctor_recc_seasonal` which is not all that surprising. Of course those who are told by doctors to get a vaccine are more likely to. The same thing is observed with `health_worker`. Those who work in the medical industry are well informed of the benefits of vaccines. Additionally it is observed that those with chronic medical conditions are much more likely to be vaccinated (especially the seasonal one). Another interesting relationship is that of `health_insurance`. Those with health insurance are more likely to be vaccinated in both the h1n1 and seasonal case. That being said, around half of the data is missing for `health_insurance`. There are quite a few other variables that appear to be significant but there may be some correlation between these features (for example `education`, `income_poverty`, `employment_status`, and `rent_or_own` are all linked to income).\n",
    "\n",
    "We may conduct further statistical analysis to see whether the difference in proportions between these groups is significant or not."
   ]
  },
  {
   "cell_type": "code",
   "execution_count": null,
   "id": "d752afeb",
   "metadata": {},
   "outputs": [],
   "source": []
  }
 ],
 "metadata": {
  "kernelspec": {
   "display_name": "Python 3 (ipykernel)",
   "language": "python",
   "name": "python3"
  },
  "language_info": {
   "codemirror_mode": {
    "name": "ipython",
    "version": 3
   },
   "file_extension": ".py",
   "mimetype": "text/x-python",
   "name": "python",
   "nbconvert_exporter": "python",
   "pygments_lexer": "ipython3",
   "version": "3.8.5"
  }
 },
 "nbformat": 4,
 "nbformat_minor": 5
}
