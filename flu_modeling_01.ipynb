{
 "cells": [
  {
   "cell_type": "code",
   "execution_count": 30,
   "id": "e11d8c05",
   "metadata": {},
   "outputs": [],
   "source": [
    "import numpy as np\n",
    "import pandas as pd\n",
    "import matplotlib.pyplot as plt\n",
    "from sklearn.linear_model import LogisticRegression \n",
    "from sklearn.multioutput import MultiOutputClassifier \n",
    "from sklearn.metrics import RocCurveDisplay\n",
    "from sklearn.model_selection import train_test_split\n",
    "from sklearn.impute import SimpleImputer\n",
    "from sklearn.preprocessing import OneHotEncoder\n",
    "from sklearn.metrics import roc_curve\n",
    "from sklearn.metrics import auc\n",
    "from sklearn.metrics import roc_auc_score\n",
    "\n",
    "%matplotlib inline"
   ]
  },
  {
   "cell_type": "code",
   "execution_count": 31,
   "id": "6d69aed7",
   "metadata": {},
   "outputs": [],
   "source": [
    "X = pd.read_csv('data/training_set_features.csv')\n",
    "y = pd.read_csv('data/training_set_labels.csv')"
   ]
  },
  {
   "cell_type": "code",
   "execution_count": 32,
   "id": "6b9aed74",
   "metadata": {},
   "outputs": [],
   "source": [
    "data = pd.concat([X,y], axis = 1)\n",
    "data = data.drop('respondent_id', axis = 1)"
   ]
  },
  {
   "cell_type": "code",
   "execution_count": 33,
   "id": "819ac5d2",
   "metadata": {},
   "outputs": [
    {
     "data": {
      "text/plain": [
       "(26707, 37)"
      ]
     },
     "execution_count": 33,
     "metadata": {},
     "output_type": "execute_result"
    }
   ],
   "source": [
    "data.shape"
   ]
  },
  {
   "cell_type": "code",
   "execution_count": 34,
   "id": "77965a5d",
   "metadata": {
    "scrolled": false
   },
   "outputs": [
    {
     "data": {
      "text/plain": [
       "h1n1_concern                   float64\n",
       "h1n1_knowledge                 float64\n",
       "behavioral_antiviral_meds      float64\n",
       "behavioral_avoidance           float64\n",
       "behavioral_face_mask           float64\n",
       "behavioral_wash_hands          float64\n",
       "behavioral_large_gatherings    float64\n",
       "behavioral_outside_home        float64\n",
       "behavioral_touch_face          float64\n",
       "doctor_recc_h1n1               float64\n",
       "doctor_recc_seasonal           float64\n",
       "chronic_med_condition          float64\n",
       "child_under_6_months           float64\n",
       "health_worker                  float64\n",
       "health_insurance               float64\n",
       "opinion_h1n1_vacc_effective    float64\n",
       "opinion_h1n1_risk              float64\n",
       "opinion_h1n1_sick_from_vacc    float64\n",
       "opinion_seas_vacc_effective    float64\n",
       "opinion_seas_risk              float64\n",
       "opinion_seas_sick_from_vacc    float64\n",
       "age_group                       object\n",
       "education                       object\n",
       "race                            object\n",
       "sex                             object\n",
       "income_poverty                  object\n",
       "marital_status                  object\n",
       "rent_or_own                     object\n",
       "employment_status               object\n",
       "hhs_geo_region                  object\n",
       "census_msa                      object\n",
       "household_adults               float64\n",
       "household_children             float64\n",
       "employment_industry             object\n",
       "employment_occupation           object\n",
       "h1n1_vaccine                     int64\n",
       "seasonal_vaccine                 int64\n",
       "dtype: object"
      ]
     },
     "execution_count": 34,
     "metadata": {},
     "output_type": "execute_result"
    }
   ],
   "source": [
    "data.dtypes"
   ]
  },
  {
   "cell_type": "markdown",
   "id": "cf5576ab",
   "metadata": {},
   "source": [
    "## Baseline Model\n",
    "To get a baseline, we will use a logistic regression model. We will OneHotEncode all of the data and will fill missing values with the mode."
   ]
  },
  {
   "cell_type": "code",
   "execution_count": 35,
   "id": "f7ed6aaf",
   "metadata": {},
   "outputs": [],
   "source": [
    "X = X.drop('respondent_id', axis = 1)\n",
    "y = y.drop('respondent_id', axis = 1)\n",
    "X_train, X_test, y_train, y_test = train_test_split(X,y, test_size = 0.3)"
   ]
  },
  {
   "cell_type": "code",
   "execution_count": 36,
   "id": "35ba650e",
   "metadata": {},
   "outputs": [
    {
     "data": {
      "text/html": [
       "<div>\n",
       "<style scoped>\n",
       "    .dataframe tbody tr th:only-of-type {\n",
       "        vertical-align: middle;\n",
       "    }\n",
       "\n",
       "    .dataframe tbody tr th {\n",
       "        vertical-align: top;\n",
       "    }\n",
       "\n",
       "    .dataframe thead th {\n",
       "        text-align: right;\n",
       "    }\n",
       "</style>\n",
       "<table border=\"1\" class=\"dataframe\">\n",
       "  <thead>\n",
       "    <tr style=\"text-align: right;\">\n",
       "      <th></th>\n",
       "      <th>h1n1_concern</th>\n",
       "      <th>h1n1_knowledge</th>\n",
       "      <th>behavioral_antiviral_meds</th>\n",
       "      <th>behavioral_avoidance</th>\n",
       "      <th>behavioral_face_mask</th>\n",
       "      <th>behavioral_wash_hands</th>\n",
       "      <th>behavioral_large_gatherings</th>\n",
       "      <th>behavioral_outside_home</th>\n",
       "      <th>behavioral_touch_face</th>\n",
       "      <th>doctor_recc_h1n1</th>\n",
       "      <th>...</th>\n",
       "      <th>income_poverty</th>\n",
       "      <th>marital_status</th>\n",
       "      <th>rent_or_own</th>\n",
       "      <th>employment_status</th>\n",
       "      <th>hhs_geo_region</th>\n",
       "      <th>census_msa</th>\n",
       "      <th>household_adults</th>\n",
       "      <th>household_children</th>\n",
       "      <th>employment_industry</th>\n",
       "      <th>employment_occupation</th>\n",
       "    </tr>\n",
       "  </thead>\n",
       "  <tbody>\n",
       "    <tr>\n",
       "      <th>4727</th>\n",
       "      <td>3.0</td>\n",
       "      <td>0.0</td>\n",
       "      <td>0.0</td>\n",
       "      <td>1.0</td>\n",
       "      <td>0.0</td>\n",
       "      <td>1.0</td>\n",
       "      <td>1.0</td>\n",
       "      <td>1.0</td>\n",
       "      <td>1.0</td>\n",
       "      <td>0.0</td>\n",
       "      <td>...</td>\n",
       "      <td>Below Poverty</td>\n",
       "      <td>Married</td>\n",
       "      <td>Own</td>\n",
       "      <td>Employed</td>\n",
       "      <td>kbazzjca</td>\n",
       "      <td>Non-MSA</td>\n",
       "      <td>2.0</td>\n",
       "      <td>0.0</td>\n",
       "      <td>fcxhlnwr</td>\n",
       "      <td>vlluhbov</td>\n",
       "    </tr>\n",
       "    <tr>\n",
       "      <th>22245</th>\n",
       "      <td>0.0</td>\n",
       "      <td>1.0</td>\n",
       "      <td>0.0</td>\n",
       "      <td>1.0</td>\n",
       "      <td>0.0</td>\n",
       "      <td>1.0</td>\n",
       "      <td>1.0</td>\n",
       "      <td>0.0</td>\n",
       "      <td>1.0</td>\n",
       "      <td>0.0</td>\n",
       "      <td>...</td>\n",
       "      <td>Below Poverty</td>\n",
       "      <td>Not Married</td>\n",
       "      <td>Own</td>\n",
       "      <td>Not in Labor Force</td>\n",
       "      <td>qufhixun</td>\n",
       "      <td>Non-MSA</td>\n",
       "      <td>0.0</td>\n",
       "      <td>1.0</td>\n",
       "      <td>NaN</td>\n",
       "      <td>NaN</td>\n",
       "    </tr>\n",
       "    <tr>\n",
       "      <th>7895</th>\n",
       "      <td>1.0</td>\n",
       "      <td>1.0</td>\n",
       "      <td>0.0</td>\n",
       "      <td>1.0</td>\n",
       "      <td>0.0</td>\n",
       "      <td>1.0</td>\n",
       "      <td>0.0</td>\n",
       "      <td>0.0</td>\n",
       "      <td>1.0</td>\n",
       "      <td>0.0</td>\n",
       "      <td>...</td>\n",
       "      <td>NaN</td>\n",
       "      <td>NaN</td>\n",
       "      <td>NaN</td>\n",
       "      <td>NaN</td>\n",
       "      <td>lzgpxyit</td>\n",
       "      <td>MSA, Not Principle  City</td>\n",
       "      <td>1.0</td>\n",
       "      <td>0.0</td>\n",
       "      <td>NaN</td>\n",
       "      <td>NaN</td>\n",
       "    </tr>\n",
       "    <tr>\n",
       "      <th>6338</th>\n",
       "      <td>2.0</td>\n",
       "      <td>2.0</td>\n",
       "      <td>0.0</td>\n",
       "      <td>1.0</td>\n",
       "      <td>0.0</td>\n",
       "      <td>1.0</td>\n",
       "      <td>0.0</td>\n",
       "      <td>0.0</td>\n",
       "      <td>1.0</td>\n",
       "      <td>0.0</td>\n",
       "      <td>...</td>\n",
       "      <td>&lt;= $75,000, Above Poverty</td>\n",
       "      <td>Not Married</td>\n",
       "      <td>Own</td>\n",
       "      <td>Employed</td>\n",
       "      <td>bhuqouqj</td>\n",
       "      <td>Non-MSA</td>\n",
       "      <td>0.0</td>\n",
       "      <td>0.0</td>\n",
       "      <td>wxleyezf</td>\n",
       "      <td>emcorrxb</td>\n",
       "    </tr>\n",
       "    <tr>\n",
       "      <th>16995</th>\n",
       "      <td>1.0</td>\n",
       "      <td>1.0</td>\n",
       "      <td>0.0</td>\n",
       "      <td>1.0</td>\n",
       "      <td>0.0</td>\n",
       "      <td>0.0</td>\n",
       "      <td>1.0</td>\n",
       "      <td>1.0</td>\n",
       "      <td>0.0</td>\n",
       "      <td>1.0</td>\n",
       "      <td>...</td>\n",
       "      <td>&lt;= $75,000, Above Poverty</td>\n",
       "      <td>Not Married</td>\n",
       "      <td>Own</td>\n",
       "      <td>Not in Labor Force</td>\n",
       "      <td>kbazzjca</td>\n",
       "      <td>Non-MSA</td>\n",
       "      <td>0.0</td>\n",
       "      <td>0.0</td>\n",
       "      <td>NaN</td>\n",
       "      <td>NaN</td>\n",
       "    </tr>\n",
       "  </tbody>\n",
       "</table>\n",
       "<p>5 rows × 35 columns</p>\n",
       "</div>"
      ],
      "text/plain": [
       "       h1n1_concern  h1n1_knowledge  behavioral_antiviral_meds  \\\n",
       "4727            3.0             0.0                        0.0   \n",
       "22245           0.0             1.0                        0.0   \n",
       "7895            1.0             1.0                        0.0   \n",
       "6338            2.0             2.0                        0.0   \n",
       "16995           1.0             1.0                        0.0   \n",
       "\n",
       "       behavioral_avoidance  behavioral_face_mask  behavioral_wash_hands  \\\n",
       "4727                    1.0                   0.0                    1.0   \n",
       "22245                   1.0                   0.0                    1.0   \n",
       "7895                    1.0                   0.0                    1.0   \n",
       "6338                    1.0                   0.0                    1.0   \n",
       "16995                   1.0                   0.0                    0.0   \n",
       "\n",
       "       behavioral_large_gatherings  behavioral_outside_home  \\\n",
       "4727                           1.0                      1.0   \n",
       "22245                          1.0                      0.0   \n",
       "7895                           0.0                      0.0   \n",
       "6338                           0.0                      0.0   \n",
       "16995                          1.0                      1.0   \n",
       "\n",
       "       behavioral_touch_face  doctor_recc_h1n1  ...  \\\n",
       "4727                     1.0               0.0  ...   \n",
       "22245                    1.0               0.0  ...   \n",
       "7895                     1.0               0.0  ...   \n",
       "6338                     1.0               0.0  ...   \n",
       "16995                    0.0               1.0  ...   \n",
       "\n",
       "                  income_poverty  marital_status  rent_or_own  \\\n",
       "4727               Below Poverty         Married          Own   \n",
       "22245              Below Poverty     Not Married          Own   \n",
       "7895                         NaN             NaN          NaN   \n",
       "6338   <= $75,000, Above Poverty     Not Married          Own   \n",
       "16995  <= $75,000, Above Poverty     Not Married          Own   \n",
       "\n",
       "        employment_status  hhs_geo_region                census_msa  \\\n",
       "4727             Employed        kbazzjca                   Non-MSA   \n",
       "22245  Not in Labor Force        qufhixun                   Non-MSA   \n",
       "7895                  NaN        lzgpxyit  MSA, Not Principle  City   \n",
       "6338             Employed        bhuqouqj                   Non-MSA   \n",
       "16995  Not in Labor Force        kbazzjca                   Non-MSA   \n",
       "\n",
       "       household_adults  household_children  employment_industry  \\\n",
       "4727                2.0                 0.0             fcxhlnwr   \n",
       "22245               0.0                 1.0                  NaN   \n",
       "7895                1.0                 0.0                  NaN   \n",
       "6338                0.0                 0.0             wxleyezf   \n",
       "16995               0.0                 0.0                  NaN   \n",
       "\n",
       "       employment_occupation  \n",
       "4727                vlluhbov  \n",
       "22245                    NaN  \n",
       "7895                     NaN  \n",
       "6338                emcorrxb  \n",
       "16995                    NaN  \n",
       "\n",
       "[5 rows x 35 columns]"
      ]
     },
     "execution_count": 36,
     "metadata": {},
     "output_type": "execute_result"
    }
   ],
   "source": [
    "X_train.head()"
   ]
  },
  {
   "cell_type": "code",
   "execution_count": 37,
   "id": "ef9eff88",
   "metadata": {},
   "outputs": [],
   "source": [
    "baseline_imputer = SimpleImputer(strategy = 'most_frequent')\n",
    "X_train = pd.DataFrame(baseline_imputer.fit_transform(X_train), columns = X_train.columns)\n",
    "X_test = pd.DataFrame(baseline_imputer.transform(X_test), columns = X_test.columns)"
   ]
  },
  {
   "cell_type": "code",
   "execution_count": 38,
   "id": "bfef29f2",
   "metadata": {},
   "outputs": [],
   "source": [
    "dummies = OneHotEncoder(drop = 'first', sparse = False)\n",
    "X_train = pd.DataFrame(dummies.fit_transform(X_train), columns = dummies.get_feature_names())\n",
    "X_test = pd.DataFrame(dummies.transform(X_test), columns = dummies.get_feature_names())"
   ]
  },
  {
   "cell_type": "code",
   "execution_count": 39,
   "id": "850e4fd5",
   "metadata": {},
   "outputs": [
    {
     "data": {
      "text/html": [
       "<div>\n",
       "<style scoped>\n",
       "    .dataframe tbody tr th:only-of-type {\n",
       "        vertical-align: middle;\n",
       "    }\n",
       "\n",
       "    .dataframe tbody tr th {\n",
       "        vertical-align: top;\n",
       "    }\n",
       "\n",
       "    .dataframe thead th {\n",
       "        text-align: right;\n",
       "    }\n",
       "</style>\n",
       "<table border=\"1\" class=\"dataframe\">\n",
       "  <thead>\n",
       "    <tr style=\"text-align: right;\">\n",
       "      <th></th>\n",
       "      <th>h1n1_vaccine</th>\n",
       "      <th>seasonal_vaccine</th>\n",
       "    </tr>\n",
       "  </thead>\n",
       "  <tbody>\n",
       "    <tr>\n",
       "      <th>4727</th>\n",
       "      <td>0</td>\n",
       "      <td>1</td>\n",
       "    </tr>\n",
       "    <tr>\n",
       "      <th>22245</th>\n",
       "      <td>0</td>\n",
       "      <td>0</td>\n",
       "    </tr>\n",
       "    <tr>\n",
       "      <th>7895</th>\n",
       "      <td>0</td>\n",
       "      <td>0</td>\n",
       "    </tr>\n",
       "    <tr>\n",
       "      <th>6338</th>\n",
       "      <td>0</td>\n",
       "      <td>0</td>\n",
       "    </tr>\n",
       "    <tr>\n",
       "      <th>16995</th>\n",
       "      <td>1</td>\n",
       "      <td>1</td>\n",
       "    </tr>\n",
       "    <tr>\n",
       "      <th>...</th>\n",
       "      <td>...</td>\n",
       "      <td>...</td>\n",
       "    </tr>\n",
       "    <tr>\n",
       "      <th>21480</th>\n",
       "      <td>0</td>\n",
       "      <td>0</td>\n",
       "    </tr>\n",
       "    <tr>\n",
       "      <th>330</th>\n",
       "      <td>0</td>\n",
       "      <td>0</td>\n",
       "    </tr>\n",
       "    <tr>\n",
       "      <th>11350</th>\n",
       "      <td>0</td>\n",
       "      <td>0</td>\n",
       "    </tr>\n",
       "    <tr>\n",
       "      <th>5453</th>\n",
       "      <td>0</td>\n",
       "      <td>0</td>\n",
       "    </tr>\n",
       "    <tr>\n",
       "      <th>25109</th>\n",
       "      <td>0</td>\n",
       "      <td>1</td>\n",
       "    </tr>\n",
       "  </tbody>\n",
       "</table>\n",
       "<p>18694 rows × 2 columns</p>\n",
       "</div>"
      ],
      "text/plain": [
       "       h1n1_vaccine  seasonal_vaccine\n",
       "4727              0                 1\n",
       "22245             0                 0\n",
       "7895              0                 0\n",
       "6338              0                 0\n",
       "16995             1                 1\n",
       "...             ...               ...\n",
       "21480             0                 0\n",
       "330               0                 0\n",
       "11350             0                 0\n",
       "5453              0                 0\n",
       "25109             0                 1\n",
       "\n",
       "[18694 rows x 2 columns]"
      ]
     },
     "execution_count": 39,
     "metadata": {},
     "output_type": "execute_result"
    }
   ],
   "source": [
    "y_train"
   ]
  },
  {
   "cell_type": "code",
   "execution_count": 40,
   "id": "98280a8d",
   "metadata": {},
   "outputs": [
    {
     "data": {
      "text/plain": [
       "MultiOutputClassifier(estimator=LogisticRegression(max_iter=1000))"
      ]
     },
     "execution_count": 40,
     "metadata": {},
     "output_type": "execute_result"
    }
   ],
   "source": [
    "baseline_model = MultiOutputClassifier(LogisticRegression(max_iter = 1000))\n",
    "baseline_model.fit(X_train, y_train)"
   ]
  },
  {
   "cell_type": "code",
   "execution_count": 41,
   "id": "a6b3480a",
   "metadata": {},
   "outputs": [],
   "source": [
    "preds = baseline_model.predict_proba(X_test)\n",
    "h1n1_preds = preds[0][:,1]\n",
    "seasonal_preds = preds[1][:,1]"
   ]
  },
  {
   "cell_type": "code",
   "execution_count": 42,
   "id": "6bcaace6",
   "metadata": {},
   "outputs": [],
   "source": [
    "y_h1n1 = np.array(y_test.iloc[:,0])\n",
    "y_seasonal = np.array(y_test.iloc[:,1])"
   ]
  },
  {
   "cell_type": "code",
   "execution_count": 43,
   "id": "872cf96d",
   "metadata": {},
   "outputs": [],
   "source": [
    "h1n1_fpr, h1n1_tpr, h1n1_thresholds = roc_curve(y_h1n1, h1n1_preds)\n",
    "baseline_h1n1_auc = auc(h1n1_fpr, h1n1_tpr)\n",
    "sea_fpr, sea_tpr, sea_thresholds = roc_curve(y_seasonal, seasonal_preds)\n",
    "baseline_sea_auc = auc(sea_fpr, sea_tpr)\n"
   ]
  },
  {
   "cell_type": "code",
   "execution_count": 44,
   "id": "8e19fee1",
   "metadata": {},
   "outputs": [],
   "source": [
    "def get_threshold(fpr,tpr, threshold):\n",
    "    youdenJ = tpr - fpr\n",
    "    index = np.argmax(youdenJ)\n",
    "    return threshold[index]"
   ]
  },
  {
   "cell_type": "code",
   "execution_count": 45,
   "id": "152f04f1",
   "metadata": {
    "scrolled": true
   },
   "outputs": [
    {
     "name": "stderr",
     "output_type": "stream",
     "text": [
      "C:\\Users\\talan\\anaconda3\\lib\\site-packages\\sklearn\\utils\\validation.py:70: FutureWarning: Pass fpr=[0.         0.         0.         ... 0.99968479 0.99968479 1.        ], tpr=[0.00000000e+00 5.99520384e-04 1.01918465e-02 ... 9.99400480e-01\n",
      " 1.00000000e+00 1.00000000e+00] as keyword args. From version 1.0 (renaming of 0.25) passing these as positional arguments will result in an error\n",
      "  warnings.warn(f\"Pass {args_msg} as keyword args. From version \"\n"
     ]
    },
    {
     "data": {
      "image/png": "[encoded data removed]",
      "text/plain": [
       "<Figure size 432x288 with 1 Axes>"
      ]
     },
     "metadata": {
      "needs_background": "light"
     },
     "output_type": "display_data"
    },
    {
     "name": "stderr",
     "output_type": "stream",
     "text": [
      "C:\\Users\\talan\\anaconda3\\lib\\site-packages\\sklearn\\utils\\validation.py:70: FutureWarning: Pass fpr=[0.         0.         0.         ... 0.99494369 0.99494369 1.        ], tpr=[0.00000000e+00 2.73074823e-04 5.46149645e-03 ... 9.99726925e-01\n",
      " 1.00000000e+00 1.00000000e+00] as keyword args. From version 1.0 (renaming of 0.25) passing these as positional arguments will result in an error\n",
      "  warnings.warn(f\"Pass {args_msg} as keyword args. From version \"\n"
     ]
    },
    {
     "name": "stdout",
     "output_type": "stream",
     "text": [
      "Optimal Threshold: 0.195702731003921\n"
     ]
    },
    {
     "data": {
      "image/png": "[encoded data removed]",
      "text/plain": [
       "<Figure size 432x288 with 1 Axes>"
      ]
     },
     "metadata": {
      "needs_background": "light"
     },
     "output_type": "display_data"
    },
    {
     "name": "stdout",
     "output_type": "stream",
     "text": [
      "Optimal Threshold: 0.47679644157058587\n"
     ]
    }
   ],
   "source": [
    "display = RocCurveDisplay(h1n1_fpr, h1n1_tpr, roc_auc = baseline_h1n1_auc,estimator_name = 'Baseline Model (h1n1)')\n",
    "optimal_h1n1_threshold = get_threshold(h1n1_fpr, h1n1_tpr, h1n1_thresholds)\n",
    "display.plot()\n",
    "plt.vlines(optimal_h1n1_threshold, 0, 1, colors = 'red')\n",
    "plt.show()\n",
    "print('Optimal Threshold: {}'.format(optimal_h1n1_threshold))\n",
    "\n",
    "\n",
    "display = RocCurveDisplay(sea_fpr, sea_tpr, roc_auc = baseline_sea_auc,estimator_name = 'Baseline Model (seasonal)')\n",
    "optimal_seasonal_threshold = get_threshold(sea_fpr, sea_tpr, sea_thresholds)\n",
    "display.plot()\n",
    "plt.vlines(optimal_seasonal_threshold, 0, 1, colors = 'red')\n",
    "plt.show()\n",
    "print('Optimal Threshold: {}'.format(optimal_seasonal_threshold))\n"
   ]
  },
  {
   "cell_type": "markdown",
   "id": "72fe0f41",
   "metadata": {},
   "source": [
    "## Getting first predictions"
   ]
  },
  {
   "cell_type": "code",
   "execution_count": 46,
   "id": "025e97a9",
   "metadata": {},
   "outputs": [],
   "source": [
    "baseline_imputer = SimpleImputer(strategy = 'most_frequent')\n",
    "dummies = OneHotEncoder(drop = 'first', sparse = False)\n",
    "X = baseline_imputer.fit_transform(X)\n",
    "X = dummies.fit_transform(X)"
   ]
  },
  {
   "cell_type": "code",
   "execution_count": 47,
   "id": "21271a0e",
   "metadata": {},
   "outputs": [],
   "source": [
    "X_test = pd.read_csv('data/test_set_features.csv')\n",
    "ids = X_test['respondent_id']\n",
    "X_test = X_test.drop('respondent_id', axis = 1)\n",
    "X_test = baseline_imputer.transform(X_test)\n",
    "X_test = dummies.transform(X_test)"
   ]
  },
  {
   "cell_type": "code",
   "execution_count": 48,
   "id": "bf30460a",
   "metadata": {},
   "outputs": [],
   "source": [
    "baseline_model.fit(X,y)\n",
    "preds = baseline_model.predict_proba(X_test)"
   ]
  },
  {
   "cell_type": "code",
   "execution_count": 57,
   "id": "032964a8",
   "metadata": {},
   "outputs": [],
   "source": [
    "h1n1_preds = preds[0][:,1]\n",
    "seasonal_preds = preds[1][:,1]\n",
    "array_preds = np.transpose([h1n1_preds, seasonal_preds])"
   ]
  },
  {
   "cell_type": "code",
   "execution_count": 60,
   "id": "67d45113",
   "metadata": {},
   "outputs": [],
   "source": [
    "predictions = pd.DataFrame(array_preds, columns = ['h1n1_vaccine', 'seasonal_vaccine'], index = ids)"
   ]
  },
  {
   "cell_type": "code",
   "execution_count": 64,
   "id": "5d230e50",
   "metadata": {},
   "outputs": [
    {
     "data": {
      "text/html": [
       "<div>\n",
       "<style scoped>\n",
       "    .dataframe tbody tr th:only-of-type {\n",
       "        vertical-align: middle;\n",
       "    }\n",
       "\n",
       "    .dataframe tbody tr th {\n",
       "        vertical-align: top;\n",
       "    }\n",
       "\n",
       "    .dataframe thead th {\n",
       "        text-align: right;\n",
       "    }\n",
       "</style>\n",
       "<table border=\"1\" class=\"dataframe\">\n",
       "  <thead>\n",
       "    <tr style=\"text-align: right;\">\n",
       "      <th></th>\n",
       "      <th>h1n1_vaccine</th>\n",
       "      <th>seasonal_vaccine</th>\n",
       "    </tr>\n",
       "    <tr>\n",
       "      <th>respondent_id</th>\n",
       "      <th></th>\n",
       "      <th></th>\n",
       "    </tr>\n",
       "  </thead>\n",
       "  <tbody>\n",
       "    <tr>\n",
       "      <th>26707</th>\n",
       "      <td>0.060103</td>\n",
       "      <td>0.319116</td>\n",
       "    </tr>\n",
       "    <tr>\n",
       "      <th>26708</th>\n",
       "      <td>0.035129</td>\n",
       "      <td>0.034420</td>\n",
       "    </tr>\n",
       "    <tr>\n",
       "      <th>26709</th>\n",
       "      <td>0.415765</td>\n",
       "      <td>0.708950</td>\n",
       "    </tr>\n",
       "    <tr>\n",
       "      <th>26710</th>\n",
       "      <td>0.428446</td>\n",
       "      <td>0.845424</td>\n",
       "    </tr>\n",
       "    <tr>\n",
       "      <th>26711</th>\n",
       "      <td>0.191677</td>\n",
       "      <td>0.355653</td>\n",
       "    </tr>\n",
       "  </tbody>\n",
       "</table>\n",
       "</div>"
      ],
      "text/plain": [
       "               h1n1_vaccine  seasonal_vaccine\n",
       "respondent_id                                \n",
       "26707              0.060103          0.319116\n",
       "26708              0.035129          0.034420\n",
       "26709              0.415765          0.708950\n",
       "26710              0.428446          0.845424\n",
       "26711              0.191677          0.355653"
      ]
     },
     "execution_count": 64,
     "metadata": {},
     "output_type": "execute_result"
    }
   ],
   "source": [
    "predictions.head()"
   ]
  },
  {
   "cell_type": "code",
   "execution_count": 24,
   "id": "2300a963",
   "metadata": {},
   "outputs": [],
   "source": [
    "#predictions['h1n1_vaccine'] = (predictions['h1n1_vaccine'] > optimal_h1n1_threshold).astype(int)\n",
    "#predictions['seasonal_vaccine'] = (predictions['seasonal_vaccine'] > optimal_seasonal_threshold).astype(int)"
   ]
  },
  {
   "cell_type": "code",
   "execution_count": 25,
   "id": "324da404",
   "metadata": {},
   "outputs": [],
   "source": [
    "#predictions.head()"
   ]
  },
  {
   "cell_type": "code",
   "execution_count": 26,
   "id": "5d63c28d",
   "metadata": {},
   "outputs": [],
   "source": [
    "predictions.to_csv('predictions/baseline_preds.csv')"
   ]
  },
  {
   "cell_type": "code",
   "execution_count": null,
   "id": "43c9588f",
   "metadata": {},
   "outputs": [],
   "source": []
  }
 ],
 "metadata": {
  "kernelspec": {
   "display_name": "Python 3 (ipykernel)",
   "language": "python",
   "name": "python3"
  },
  "language_info": {
   "codemirror_mode": {
    "name": "ipython",
    "version": 3
   },
   "file_extension": ".py",
   "mimetype": "text/x-python",
   "name": "python",
   "nbconvert_exporter": "python",
   "pygments_lexer": "ipython3",
   "version": "3.8.5"
  }
 },
 "nbformat": 4,
 "nbformat_minor": 5
}
