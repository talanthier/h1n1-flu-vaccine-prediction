{
 "cells": [
  {
   "cell_type": "code",
   "execution_count": 1,
   "id": "e11d8c05",
   "metadata": {},
   "outputs": [],
   "source": [
    "import numpy as np\n",
    "import pandas as pd\n",
    "import matplotlib.pyplot as plt\n",
    "from sklearn.linear_model import LogisticRegression \n",
    "from sklearn.multioutput import MultiOutputClassifier \n",
    "from sklearn.metrics import RocCurveDisplay\n",
    "from sklearn.model_selection import train_test_split\n",
    "from sklearn.impute import SimpleImputer\n",
    "from sklearn.preprocessing import OneHotEncoder\n",
    "from sklearn.metrics import roc_curve\n",
    "from sklearn.metrics import auc\n",
    "\n",
    "%matplotlib inline"
   ]
  },
  {
   "cell_type": "code",
   "execution_count": 2,
   "id": "6d69aed7",
   "metadata": {},
   "outputs": [],
   "source": [
    "X = pd.read_csv('data/training_set_features.csv')\n",
    "y = pd.read_csv('data/training_set_labels.csv')"
   ]
  },
  {
   "cell_type": "code",
   "execution_count": 3,
   "id": "6b9aed74",
   "metadata": {},
   "outputs": [],
   "source": [
    "data = pd.concat([X,y], axis = 1)\n",
    "data = data.drop('respondent_id', axis = 1)"
   ]
  },
  {
   "cell_type": "code",
   "execution_count": 4,
   "id": "74938217",
   "metadata": {},
   "outputs": [
    {
     "data": {
      "text/plain": [
       "(26707, 37)"
      ]
     },
     "execution_count": 4,
     "metadata": {},
     "output_type": "execute_result"
    }
   ],
   "source": [
    "data.shape"
   ]
  },
  {
   "cell_type": "code",
   "execution_count": 5,
   "id": "77965a5d",
   "metadata": {
    "scrolled": false
   },
   "outputs": [
    {
     "data": {
      "text/plain": [
       "h1n1_concern                   float64\n",
       "h1n1_knowledge                 float64\n",
       "behavioral_antiviral_meds      float64\n",
       "behavioral_avoidance           float64\n",
       "behavioral_face_mask           float64\n",
       "behavioral_wash_hands          float64\n",
       "behavioral_large_gatherings    float64\n",
       "behavioral_outside_home        float64\n",
       "behavioral_touch_face          float64\n",
       "doctor_recc_h1n1               float64\n",
       "doctor_recc_seasonal           float64\n",
       "chronic_med_condition          float64\n",
       "child_under_6_months           float64\n",
       "health_worker                  float64\n",
       "health_insurance               float64\n",
       "opinion_h1n1_vacc_effective    float64\n",
       "opinion_h1n1_risk              float64\n",
       "opinion_h1n1_sick_from_vacc    float64\n",
       "opinion_seas_vacc_effective    float64\n",
       "opinion_seas_risk              float64\n",
       "opinion_seas_sick_from_vacc    float64\n",
       "age_group                       object\n",
       "education                       object\n",
       "race                            object\n",
       "sex                             object\n",
       "income_poverty                  object\n",
       "marital_status                  object\n",
       "rent_or_own                     object\n",
       "employment_status               object\n",
       "hhs_geo_region                  object\n",
       "census_msa                      object\n",
       "household_adults               float64\n",
       "household_children             float64\n",
       "employment_industry             object\n",
       "employment_occupation           object\n",
       "h1n1_vaccine                     int64\n",
       "seasonal_vaccine                 int64\n",
       "dtype: object"
      ]
     },
     "execution_count": 5,
     "metadata": {},
     "output_type": "execute_result"
    }
   ],
   "source": [
    "data.dtypes"
   ]
  },
  {
   "cell_type": "markdown",
   "id": "b61e2f8e",
   "metadata": {},
   "source": [
    "## Baseline Model\n",
    "To get a baseline, we will use a logistic regression model. We will OneHotEncode all of the data and will fill missing values with the mode."
   ]
  },
  {
   "cell_type": "code",
   "execution_count": 6,
   "id": "eb5e5d91",
   "metadata": {},
   "outputs": [],
   "source": [
    "X = X.drop('respondent_id', axis = 1)\n",
    "y = y.drop('respondent_id', axis = 1)\n",
    "X_train, X_test, y_train, y_test = train_test_split(X,y, test_size = 0.3)"
   ]
  },
  {
   "cell_type": "code",
   "execution_count": 7,
   "id": "27a8faee",
   "metadata": {},
   "outputs": [
    {
     "data": {
      "text/html": [
       "<div>\n",
       "<style scoped>\n",
       "    .dataframe tbody tr th:only-of-type {\n",
       "        vertical-align: middle;\n",
       "    }\n",
       "\n",
       "    .dataframe tbody tr th {\n",
       "        vertical-align: top;\n",
       "    }\n",
       "\n",
       "    .dataframe thead th {\n",
       "        text-align: right;\n",
       "    }\n",
       "</style>\n",
       "<table border=\"1\" class=\"dataframe\">\n",
       "  <thead>\n",
       "    <tr style=\"text-align: right;\">\n",
       "      <th></th>\n",
       "      <th>h1n1_concern</th>\n",
       "      <th>h1n1_knowledge</th>\n",
       "      <th>behavioral_antiviral_meds</th>\n",
       "      <th>behavioral_avoidance</th>\n",
       "      <th>behavioral_face_mask</th>\n",
       "      <th>behavioral_wash_hands</th>\n",
       "      <th>behavioral_large_gatherings</th>\n",
       "      <th>behavioral_outside_home</th>\n",
       "      <th>behavioral_touch_face</th>\n",
       "      <th>doctor_recc_h1n1</th>\n",
       "      <th>...</th>\n",
       "      <th>income_poverty</th>\n",
       "      <th>marital_status</th>\n",
       "      <th>rent_or_own</th>\n",
       "      <th>employment_status</th>\n",
       "      <th>hhs_geo_region</th>\n",
       "      <th>census_msa</th>\n",
       "      <th>household_adults</th>\n",
       "      <th>household_children</th>\n",
       "      <th>employment_industry</th>\n",
       "      <th>employment_occupation</th>\n",
       "    </tr>\n",
       "  </thead>\n",
       "  <tbody>\n",
       "    <tr>\n",
       "      <th>14001</th>\n",
       "      <td>1.0</td>\n",
       "      <td>0.0</td>\n",
       "      <td>0.0</td>\n",
       "      <td>1.0</td>\n",
       "      <td>0.0</td>\n",
       "      <td>1.0</td>\n",
       "      <td>0.0</td>\n",
       "      <td>0.0</td>\n",
       "      <td>1.0</td>\n",
       "      <td>0.0</td>\n",
       "      <td>...</td>\n",
       "      <td>&lt;= $75,000, Above Poverty</td>\n",
       "      <td>Not Married</td>\n",
       "      <td>Own</td>\n",
       "      <td>Not in Labor Force</td>\n",
       "      <td>fpwskwrf</td>\n",
       "      <td>Non-MSA</td>\n",
       "      <td>0.0</td>\n",
       "      <td>0.0</td>\n",
       "      <td>NaN</td>\n",
       "      <td>NaN</td>\n",
       "    </tr>\n",
       "    <tr>\n",
       "      <th>10461</th>\n",
       "      <td>1.0</td>\n",
       "      <td>1.0</td>\n",
       "      <td>0.0</td>\n",
       "      <td>1.0</td>\n",
       "      <td>0.0</td>\n",
       "      <td>1.0</td>\n",
       "      <td>0.0</td>\n",
       "      <td>0.0</td>\n",
       "      <td>1.0</td>\n",
       "      <td>0.0</td>\n",
       "      <td>...</td>\n",
       "      <td>&gt; $75,000</td>\n",
       "      <td>Not Married</td>\n",
       "      <td>Own</td>\n",
       "      <td>Employed</td>\n",
       "      <td>lzgpxyit</td>\n",
       "      <td>MSA, Principle City</td>\n",
       "      <td>3.0</td>\n",
       "      <td>0.0</td>\n",
       "      <td>vjjrobsf</td>\n",
       "      <td>rcertsgn</td>\n",
       "    </tr>\n",
       "    <tr>\n",
       "      <th>15984</th>\n",
       "      <td>2.0</td>\n",
       "      <td>1.0</td>\n",
       "      <td>0.0</td>\n",
       "      <td>1.0</td>\n",
       "      <td>0.0</td>\n",
       "      <td>1.0</td>\n",
       "      <td>1.0</td>\n",
       "      <td>1.0</td>\n",
       "      <td>1.0</td>\n",
       "      <td>0.0</td>\n",
       "      <td>...</td>\n",
       "      <td>&lt;= $75,000, Above Poverty</td>\n",
       "      <td>Married</td>\n",
       "      <td>Own</td>\n",
       "      <td>Employed</td>\n",
       "      <td>qufhixun</td>\n",
       "      <td>Non-MSA</td>\n",
       "      <td>1.0</td>\n",
       "      <td>3.0</td>\n",
       "      <td>ldnlellj</td>\n",
       "      <td>hfxkjkmi</td>\n",
       "    </tr>\n",
       "    <tr>\n",
       "      <th>10462</th>\n",
       "      <td>1.0</td>\n",
       "      <td>1.0</td>\n",
       "      <td>0.0</td>\n",
       "      <td>1.0</td>\n",
       "      <td>0.0</td>\n",
       "      <td>1.0</td>\n",
       "      <td>1.0</td>\n",
       "      <td>0.0</td>\n",
       "      <td>1.0</td>\n",
       "      <td>0.0</td>\n",
       "      <td>...</td>\n",
       "      <td>&lt;= $75,000, Above Poverty</td>\n",
       "      <td>Married</td>\n",
       "      <td>Rent</td>\n",
       "      <td>Not in Labor Force</td>\n",
       "      <td>lzgpxyit</td>\n",
       "      <td>Non-MSA</td>\n",
       "      <td>1.0</td>\n",
       "      <td>0.0</td>\n",
       "      <td>NaN</td>\n",
       "      <td>NaN</td>\n",
       "    </tr>\n",
       "    <tr>\n",
       "      <th>15964</th>\n",
       "      <td>2.0</td>\n",
       "      <td>1.0</td>\n",
       "      <td>0.0</td>\n",
       "      <td>1.0</td>\n",
       "      <td>0.0</td>\n",
       "      <td>1.0</td>\n",
       "      <td>0.0</td>\n",
       "      <td>0.0</td>\n",
       "      <td>1.0</td>\n",
       "      <td>0.0</td>\n",
       "      <td>...</td>\n",
       "      <td>&lt;= $75,000, Above Poverty</td>\n",
       "      <td>Not Married</td>\n",
       "      <td>Rent</td>\n",
       "      <td>Employed</td>\n",
       "      <td>qufhixun</td>\n",
       "      <td>MSA, Not Principle  City</td>\n",
       "      <td>0.0</td>\n",
       "      <td>2.0</td>\n",
       "      <td>pxcmvdjn</td>\n",
       "      <td>xtkaffoo</td>\n",
       "    </tr>\n",
       "  </tbody>\n",
       "</table>\n",
       "<p>5 rows × 35 columns</p>\n",
       "</div>"
      ],
      "text/plain": [
       "       h1n1_concern  h1n1_knowledge  behavioral_antiviral_meds  \\\n",
       "14001           1.0             0.0                        0.0   \n",
       "10461           1.0             1.0                        0.0   \n",
       "15984           2.0             1.0                        0.0   \n",
       "10462           1.0             1.0                        0.0   \n",
       "15964           2.0             1.0                        0.0   \n",
       "\n",
       "       behavioral_avoidance  behavioral_face_mask  behavioral_wash_hands  \\\n",
       "14001                   1.0                   0.0                    1.0   \n",
       "10461                   1.0                   0.0                    1.0   \n",
       "15984                   1.0                   0.0                    1.0   \n",
       "10462                   1.0                   0.0                    1.0   \n",
       "15964                   1.0                   0.0                    1.0   \n",
       "\n",
       "       behavioral_large_gatherings  behavioral_outside_home  \\\n",
       "14001                          0.0                      0.0   \n",
       "10461                          0.0                      0.0   \n",
       "15984                          1.0                      1.0   \n",
       "10462                          1.0                      0.0   \n",
       "15964                          0.0                      0.0   \n",
       "\n",
       "       behavioral_touch_face  doctor_recc_h1n1  ...  \\\n",
       "14001                    1.0               0.0  ...   \n",
       "10461                    1.0               0.0  ...   \n",
       "15984                    1.0               0.0  ...   \n",
       "10462                    1.0               0.0  ...   \n",
       "15964                    1.0               0.0  ...   \n",
       "\n",
       "                  income_poverty  marital_status  rent_or_own  \\\n",
       "14001  <= $75,000, Above Poverty     Not Married          Own   \n",
       "10461                  > $75,000     Not Married          Own   \n",
       "15984  <= $75,000, Above Poverty         Married          Own   \n",
       "10462  <= $75,000, Above Poverty         Married         Rent   \n",
       "15964  <= $75,000, Above Poverty     Not Married         Rent   \n",
       "\n",
       "        employment_status  hhs_geo_region                census_msa  \\\n",
       "14001  Not in Labor Force        fpwskwrf                   Non-MSA   \n",
       "10461            Employed        lzgpxyit       MSA, Principle City   \n",
       "15984            Employed        qufhixun                   Non-MSA   \n",
       "10462  Not in Labor Force        lzgpxyit                   Non-MSA   \n",
       "15964            Employed        qufhixun  MSA, Not Principle  City   \n",
       "\n",
       "       household_adults  household_children  employment_industry  \\\n",
       "14001               0.0                 0.0                  NaN   \n",
       "10461               3.0                 0.0             vjjrobsf   \n",
       "15984               1.0                 3.0             ldnlellj   \n",
       "10462               1.0                 0.0                  NaN   \n",
       "15964               0.0                 2.0             pxcmvdjn   \n",
       "\n",
       "       employment_occupation  \n",
       "14001                    NaN  \n",
       "10461               rcertsgn  \n",
       "15984               hfxkjkmi  \n",
       "10462                    NaN  \n",
       "15964               xtkaffoo  \n",
       "\n",
       "[5 rows x 35 columns]"
      ]
     },
     "execution_count": 7,
     "metadata": {},
     "output_type": "execute_result"
    }
   ],
   "source": [
    "X_train.head()"
   ]
  },
  {
   "cell_type": "code",
   "execution_count": 8,
   "id": "bb620d44",
   "metadata": {},
   "outputs": [],
   "source": [
    "baseline_imputer = SimpleImputer(strategy = 'most_frequent')\n",
    "X_train = pd.DataFrame(baseline_imputer.fit_transform(X_train), columns = X_train.columns)\n",
    "X_test = pd.DataFrame(baseline_imputer.transform(X_test), columns = X_test.columns)"
   ]
  },
  {
   "cell_type": "code",
   "execution_count": 9,
   "id": "e6cf1179",
   "metadata": {},
   "outputs": [],
   "source": [
    "dummies = OneHotEncoder(drop = 'first', sparse = False)\n",
    "X_train = pd.DataFrame(dummies.fit_transform(X_train), columns = dummies.get_feature_names())\n",
    "X_test = pd.DataFrame(dummies.transform(X_test), columns = dummies.get_feature_names())"
   ]
  },
  {
   "cell_type": "code",
   "execution_count": 10,
   "id": "ec5d0a97",
   "metadata": {},
   "outputs": [
    {
     "data": {
      "text/html": [
       "<div>\n",
       "<style scoped>\n",
       "    .dataframe tbody tr th:only-of-type {\n",
       "        vertical-align: middle;\n",
       "    }\n",
       "\n",
       "    .dataframe tbody tr th {\n",
       "        vertical-align: top;\n",
       "    }\n",
       "\n",
       "    .dataframe thead th {\n",
       "        text-align: right;\n",
       "    }\n",
       "</style>\n",
       "<table border=\"1\" class=\"dataframe\">\n",
       "  <thead>\n",
       "    <tr style=\"text-align: right;\">\n",
       "      <th></th>\n",
       "      <th>h1n1_vaccine</th>\n",
       "      <th>seasonal_vaccine</th>\n",
       "    </tr>\n",
       "  </thead>\n",
       "  <tbody>\n",
       "    <tr>\n",
       "      <th>14001</th>\n",
       "      <td>0</td>\n",
       "      <td>1</td>\n",
       "    </tr>\n",
       "    <tr>\n",
       "      <th>10461</th>\n",
       "      <td>0</td>\n",
       "      <td>0</td>\n",
       "    </tr>\n",
       "    <tr>\n",
       "      <th>15984</th>\n",
       "      <td>0</td>\n",
       "      <td>0</td>\n",
       "    </tr>\n",
       "    <tr>\n",
       "      <th>10462</th>\n",
       "      <td>0</td>\n",
       "      <td>1</td>\n",
       "    </tr>\n",
       "    <tr>\n",
       "      <th>15964</th>\n",
       "      <td>0</td>\n",
       "      <td>0</td>\n",
       "    </tr>\n",
       "    <tr>\n",
       "      <th>...</th>\n",
       "      <td>...</td>\n",
       "      <td>...</td>\n",
       "    </tr>\n",
       "    <tr>\n",
       "      <th>19941</th>\n",
       "      <td>0</td>\n",
       "      <td>0</td>\n",
       "    </tr>\n",
       "    <tr>\n",
       "      <th>17293</th>\n",
       "      <td>0</td>\n",
       "      <td>1</td>\n",
       "    </tr>\n",
       "    <tr>\n",
       "      <th>341</th>\n",
       "      <td>0</td>\n",
       "      <td>0</td>\n",
       "    </tr>\n",
       "    <tr>\n",
       "      <th>360</th>\n",
       "      <td>0</td>\n",
       "      <td>0</td>\n",
       "    </tr>\n",
       "    <tr>\n",
       "      <th>1779</th>\n",
       "      <td>1</td>\n",
       "      <td>0</td>\n",
       "    </tr>\n",
       "  </tbody>\n",
       "</table>\n",
       "<p>18694 rows × 2 columns</p>\n",
       "</div>"
      ],
      "text/plain": [
       "       h1n1_vaccine  seasonal_vaccine\n",
       "14001             0                 1\n",
       "10461             0                 0\n",
       "15984             0                 0\n",
       "10462             0                 1\n",
       "15964             0                 0\n",
       "...             ...               ...\n",
       "19941             0                 0\n",
       "17293             0                 1\n",
       "341               0                 0\n",
       "360               0                 0\n",
       "1779              1                 0\n",
       "\n",
       "[18694 rows x 2 columns]"
      ]
     },
     "execution_count": 10,
     "metadata": {},
     "output_type": "execute_result"
    }
   ],
   "source": [
    "y_train"
   ]
  },
  {
   "cell_type": "code",
   "execution_count": 11,
   "id": "dad6c2c1",
   "metadata": {},
   "outputs": [
    {
     "data": {
      "text/plain": [
       "MultiOutputClassifier(estimator=LogisticRegression(max_iter=1000))"
      ]
     },
     "execution_count": 11,
     "metadata": {},
     "output_type": "execute_result"
    }
   ],
   "source": [
    "baseline_model = MultiOutputClassifier(LogisticRegression(max_iter = 1000))\n",
    "baseline_model.fit(X_train, y_train)"
   ]
  },
  {
   "cell_type": "code",
   "execution_count": 12,
   "id": "5029e131",
   "metadata": {},
   "outputs": [],
   "source": [
    "preds = baseline_model.predict_proba(X_test)\n",
    "h1n1_preds = preds[0][:,1]\n",
    "seasonal_preds = preds[1][:,1]"
   ]
  },
  {
   "cell_type": "code",
   "execution_count": 13,
   "id": "b44f4607",
   "metadata": {},
   "outputs": [],
   "source": [
    "y_h1n1 = np.array(y_test.iloc[:,0])\n",
    "y_seasonal = np.array(y_test.iloc[:,1])"
   ]
  },
  {
   "cell_type": "code",
   "execution_count": 14,
   "id": "0ed7d42e",
   "metadata": {},
   "outputs": [],
   "source": [
    "h1n1_fpr, h1n1_tpr, h1n1_thresholds = roc_curve(y_h1n1, h1n1_preds)\n",
    "baseline_h1n1_auc = auc(h1n1_fpr, h1n1_tpr)\n",
    "sea_fpr, sea_tpr, sea_thresholds = roc_curve(y_seasonal, seasonal_preds)\n",
    "baseline_sea_auc = auc(sea_fpr, sea_tpr)\n"
   ]
  },
  {
   "cell_type": "code",
   "execution_count": 15,
   "id": "c6f85de4",
   "metadata": {},
   "outputs": [],
   "source": [
    "def get_threshold(fpr,tpr, threshold):\n",
    "    youdenJ = tpr - fpr\n",
    "    index = np.argmax(youdenJ)\n",
    "    return threshold[index]"
   ]
  },
  {
   "cell_type": "code",
   "execution_count": 16,
   "id": "fb0ee940",
   "metadata": {},
   "outputs": [
    {
     "name": "stderr",
     "output_type": "stream",
     "text": [
      "C:\\Users\\talan\\anaconda3\\lib\\site-packages\\sklearn\\utils\\validation.py:70: FutureWarning: Pass fpr=[0.         0.         0.         ... 0.98630791 0.98630791 1.        ], tpr=[0.00000000e+00 5.77367206e-04 3.46420323e-03 ... 9.99422633e-01\n",
      " 1.00000000e+00 1.00000000e+00] as keyword args. From version 1.0 (renaming of 0.25) passing these as positional arguments will result in an error\n",
      "  warnings.warn(f\"Pass {args_msg} as keyword args. From version \"\n"
     ]
    },
    {
     "data": {
      "image/png": "[encoded data removed]",
      "text/plain": [
       "<Figure size 432x288 with 1 Axes>"
      ]
     },
     "metadata": {
      "needs_background": "light"
     },
     "output_type": "display_data"
    },
    {
     "name": "stdout",
     "output_type": "stream",
     "text": [
      "Optimal Threshold: 0.20260658564907313\n"
     ]
    },
    {
     "name": "stderr",
     "output_type": "stream",
     "text": [
      "C:\\Users\\talan\\anaconda3\\lib\\site-packages\\sklearn\\utils\\validation.py:70: FutureWarning: Pass fpr=[0.        0.        0.        ... 0.9956442 0.9956442 1.       ], tpr=[0.00000000e+00 2.73897562e-04 2.13640099e-02 ... 9.99726102e-01\n",
      " 1.00000000e+00 1.00000000e+00] as keyword args. From version 1.0 (renaming of 0.25) passing these as positional arguments will result in an error\n",
      "  warnings.warn(f\"Pass {args_msg} as keyword args. From version \"\n"
     ]
    },
    {
     "data": {
      "image/png": "[encoded data removed]",
      "text/plain": [
       "<Figure size 432x288 with 1 Axes>"
      ]
     },
     "metadata": {
      "needs_background": "light"
     },
     "output_type": "display_data"
    },
    {
     "name": "stdout",
     "output_type": "stream",
     "text": [
      "Optimal Threshold: 0.4489104004694355\n"
     ]
    }
   ],
   "source": [
    "display = RocCurveDisplay(h1n1_fpr, h1n1_tpr, roc_auc = baseline_h1n1_auc,estimator_name = 'Baseline Model (h1n1)')\n",
    "optimal_h1n1_threshold = get_threshold(h1n1_fpr, h1n1_tpr, h1n1_thresholds)\n",
    "display.plot()\n",
    "plt.vlines(optimal_h1n1_threshold, 0, 1, colors = 'red')\n",
    "plt.show()\n",
    "print('Optimal Threshold: {}'.format(optimal_h1n1_threshold))\n",
    "\n",
    "\n",
    "display = RocCurveDisplay(sea_fpr, sea_tpr, roc_auc = baseline_sea_auc,estimator_name = 'Baseline Model (seasonal)')\n",
    "optimal_seasonal_threshold = get_threshold(sea_fpr, sea_tpr, sea_thresholds)\n",
    "display.plot()\n",
    "plt.vlines(optimal_seasonal_threshold, 0, 1, colors = 'red')\n",
    "plt.show()\n",
    "print('Optimal Threshold: {}'.format(optimal_seasonal_threshold))\n"
   ]
  },
  {
   "cell_type": "markdown",
   "id": "070fc1b9",
   "metadata": {},
   "source": [
    "## Getting first predictions"
   ]
  },
  {
   "cell_type": "code",
   "execution_count": 17,
   "id": "310d5874",
   "metadata": {},
   "outputs": [],
   "source": [
    "baseline_imputer = SimpleImputer(strategy = 'most_frequent')\n",
    "dummies = OneHotEncoder(drop = 'first', sparse = False)\n",
    "X = baseline_imputer.fit_transform(X)\n",
    "X = dummies.fit_transform(X)"
   ]
  },
  {
   "cell_type": "code",
   "execution_count": 18,
   "id": "fc33154d",
   "metadata": {},
   "outputs": [],
   "source": [
    "X_test = pd.read_csv('data/test_set_features.csv')\n",
    "ids = X_test['respondent_id']\n",
    "X_test = X_test.drop('respondent_id', axis = 1)\n",
    "X_test = baseline_imputer.transform(X_test)\n",
    "X_test = dummies.transform(X_test)"
   ]
  },
  {
   "cell_type": "code",
   "execution_count": 19,
   "id": "eb03a172",
   "metadata": {},
   "outputs": [],
   "source": [
    "baseline_model.fit(X,y)\n",
    "preds = baseline_model.predict_proba(X_test)"
   ]
  },
  {
   "cell_type": "code",
   "execution_count": 20,
   "id": "14c7fe17",
   "metadata": {},
   "outputs": [],
   "source": [
    "predictions = pd.DataFrame(preds[0], columns = ['h1n1_vaccine', 'seasonal_vaccine'], index = ids)"
   ]
  },
  {
   "cell_type": "code",
   "execution_count": 21,
   "id": "9ca1e924",
   "metadata": {},
   "outputs": [],
   "source": [
    "predictions['h1n1_vaccine'] = predictions['h1n1_vaccine']"
   ]
  },
  {
   "cell_type": "code",
   "execution_count": 22,
   "id": "436afaad",
   "metadata": {},
   "outputs": [
    {
     "data": {
      "text/html": [
       "<div>\n",
       "<style scoped>\n",
       "    .dataframe tbody tr th:only-of-type {\n",
       "        vertical-align: middle;\n",
       "    }\n",
       "\n",
       "    .dataframe tbody tr th {\n",
       "        vertical-align: top;\n",
       "    }\n",
       "\n",
       "    .dataframe thead th {\n",
       "        text-align: right;\n",
       "    }\n",
       "</style>\n",
       "<table border=\"1\" class=\"dataframe\">\n",
       "  <thead>\n",
       "    <tr style=\"text-align: right;\">\n",
       "      <th></th>\n",
       "      <th>h1n1_vaccine</th>\n",
       "      <th>seasonal_vaccine</th>\n",
       "    </tr>\n",
       "    <tr>\n",
       "      <th>respondent_id</th>\n",
       "      <th></th>\n",
       "      <th></th>\n",
       "    </tr>\n",
       "  </thead>\n",
       "  <tbody>\n",
       "    <tr>\n",
       "      <th>26707</th>\n",
       "      <td>0.939897</td>\n",
       "      <td>0.060103</td>\n",
       "    </tr>\n",
       "    <tr>\n",
       "      <th>26708</th>\n",
       "      <td>0.964871</td>\n",
       "      <td>0.035129</td>\n",
       "    </tr>\n",
       "    <tr>\n",
       "      <th>26709</th>\n",
       "      <td>0.584235</td>\n",
       "      <td>0.415765</td>\n",
       "    </tr>\n",
       "    <tr>\n",
       "      <th>26710</th>\n",
       "      <td>0.571554</td>\n",
       "      <td>0.428446</td>\n",
       "    </tr>\n",
       "    <tr>\n",
       "      <th>26711</th>\n",
       "      <td>0.808323</td>\n",
       "      <td>0.191677</td>\n",
       "    </tr>\n",
       "  </tbody>\n",
       "</table>\n",
       "</div>"
      ],
      "text/plain": [
       "               h1n1_vaccine  seasonal_vaccine\n",
       "respondent_id                                \n",
       "26707              0.939897          0.060103\n",
       "26708              0.964871          0.035129\n",
       "26709              0.584235          0.415765\n",
       "26710              0.571554          0.428446\n",
       "26711              0.808323          0.191677"
      ]
     },
     "execution_count": 22,
     "metadata": {},
     "output_type": "execute_result"
    }
   ],
   "source": [
    "predictions.head()"
   ]
  },
  {
   "cell_type": "code",
   "execution_count": 23,
   "id": "01ff9b12",
   "metadata": {},
   "outputs": [],
   "source": [
    "predictions['h1n1_vaccine'] = (predictions['h1n1_vaccine'] > optimal_h1n1_threshold).astype(int)\n",
    "predictions['seasonal_vaccine'] = (predictions['seasonal_vaccine'] > optimal_seasonal_threshold).astype(int)"
   ]
  },
  {
   "cell_type": "code",
   "execution_count": 24,
   "id": "2157d4c9",
   "metadata": {},
   "outputs": [
    {
     "data": {
      "text/html": [
       "<div>\n",
       "<style scoped>\n",
       "    .dataframe tbody tr th:only-of-type {\n",
       "        vertical-align: middle;\n",
       "    }\n",
       "\n",
       "    .dataframe tbody tr th {\n",
       "        vertical-align: top;\n",
       "    }\n",
       "\n",
       "    .dataframe thead th {\n",
       "        text-align: right;\n",
       "    }\n",
       "</style>\n",
       "<table border=\"1\" class=\"dataframe\">\n",
       "  <thead>\n",
       "    <tr style=\"text-align: right;\">\n",
       "      <th></th>\n",
       "      <th>h1n1_vaccine</th>\n",
       "      <th>seasonal_vaccine</th>\n",
       "    </tr>\n",
       "    <tr>\n",
       "      <th>respondent_id</th>\n",
       "      <th></th>\n",
       "      <th></th>\n",
       "    </tr>\n",
       "  </thead>\n",
       "  <tbody>\n",
       "    <tr>\n",
       "      <th>26707</th>\n",
       "      <td>1</td>\n",
       "      <td>0</td>\n",
       "    </tr>\n",
       "    <tr>\n",
       "      <th>26708</th>\n",
       "      <td>1</td>\n",
       "      <td>0</td>\n",
       "    </tr>\n",
       "    <tr>\n",
       "      <th>26709</th>\n",
       "      <td>1</td>\n",
       "      <td>0</td>\n",
       "    </tr>\n",
       "    <tr>\n",
       "      <th>26710</th>\n",
       "      <td>1</td>\n",
       "      <td>0</td>\n",
       "    </tr>\n",
       "    <tr>\n",
       "      <th>26711</th>\n",
       "      <td>1</td>\n",
       "      <td>0</td>\n",
       "    </tr>\n",
       "  </tbody>\n",
       "</table>\n",
       "</div>"
      ],
      "text/plain": [
       "               h1n1_vaccine  seasonal_vaccine\n",
       "respondent_id                                \n",
       "26707                     1                 0\n",
       "26708                     1                 0\n",
       "26709                     1                 0\n",
       "26710                     1                 0\n",
       "26711                     1                 0"
      ]
     },
     "execution_count": 24,
     "metadata": {},
     "output_type": "execute_result"
    }
   ],
   "source": [
    "predictions.head()"
   ]
  },
  {
   "cell_type": "code",
   "execution_count": 25,
   "id": "6feaf1c4",
   "metadata": {},
   "outputs": [],
   "source": [
    "predictions.to_csv('predictions/baseline_preds.csv')"
   ]
  },
  {
   "cell_type": "code",
   "execution_count": null,
   "id": "c2e71b3c",
   "metadata": {},
   "outputs": [],
   "source": []
  }
 ],
 "metadata": {
  "kernelspec": {
   "display_name": "Python 3 (ipykernel)",
   "language": "python",
   "name": "python3"
  },
  "language_info": {
   "codemirror_mode": {
    "name": "ipython",
    "version": 3
   },
   "file_extension": ".py",
   "mimetype": "text/x-python",
   "name": "python",
   "nbconvert_exporter": "python",
   "pygments_lexer": "ipython3",
   "version": "3.8.5"
  }
 },
 "nbformat": 4,
 "nbformat_minor": 5
}
