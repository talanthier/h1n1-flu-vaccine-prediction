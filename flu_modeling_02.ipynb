{
 "cells": [
  {
   "cell_type": "code",
   "execution_count": 1,
   "id": "159491e6",
   "metadata": {},
   "outputs": [],
   "source": [
    "import numpy as np\n",
    "import pandas as pd\n",
    "import matplotlib.pyplot as plt\n",
    "\n",
    "from sklearn.model_selection import train_test_split\n",
    "from sklearn.impute import SimpleImputer\n",
    "from sklearn.impute import KNNImputer\n",
    "from sklearn.preprocessing import OneHotEncoder\n",
    "from sklearn.preprocessing import OrdinalEncoder\n",
    "from sklearn.preprocessing import StandardScaler\n",
    "from sklearn.pipeline import Pipeline\n",
    "from sklearn.compose import ColumnTransformer\n",
    "\n",
    "from sklearn.metrics import roc_curve\n",
    "from sklearn.metrics import auc\n",
    "from sklearn.metrics import roc_auc_score\n",
    "from sklearn.linear_model import LogisticRegression \n",
    "from sklearn.multioutput import MultiOutputClassifier \n",
    "from sklearn.metrics import RocCurveDisplay\n",
    "\n",
    "%matplotlib inline"
   ]
  },
  {
   "cell_type": "code",
   "execution_count": 2,
   "id": "b7472dfc",
   "metadata": {},
   "outputs": [],
   "source": [
    "X = pd.read_csv('data/training_set_features.csv')\n",
    "y = pd.read_csv('data/training_set_labels.csv')"
   ]
  },
  {
   "cell_type": "code",
   "execution_count": 3,
   "id": "a7578401",
   "metadata": {},
   "outputs": [],
   "source": [
    "data = pd.concat([X,y], axis = 1)\n",
    "data = data.drop('respondent_id', axis = 1)"
   ]
  },
  {
   "cell_type": "code",
   "execution_count": 4,
   "id": "1a91102f",
   "metadata": {},
   "outputs": [
    {
     "data": {
      "text/plain": [
       "h1n1_concern                   0.003445\n",
       "h1n1_knowledge                 0.004343\n",
       "behavioral_antiviral_meds      0.002658\n",
       "behavioral_avoidance           0.007788\n",
       "behavioral_face_mask           0.000711\n",
       "behavioral_wash_hands          0.001573\n",
       "behavioral_large_gatherings    0.003258\n",
       "behavioral_outside_home        0.003070\n",
       "behavioral_touch_face          0.004793\n",
       "doctor_recc_h1n1               0.080878\n",
       "doctor_recc_seasonal           0.080878\n",
       "chronic_med_condition          0.036358\n",
       "child_under_6_months           0.030704\n",
       "health_worker                  0.030104\n",
       "health_insurance               0.459580\n",
       "opinion_h1n1_vacc_effective    0.014640\n",
       "opinion_h1n1_risk              0.014528\n",
       "opinion_h1n1_sick_from_vacc    0.014790\n",
       "opinion_seas_vacc_effective    0.017299\n",
       "opinion_seas_risk              0.019246\n",
       "opinion_seas_sick_from_vacc    0.020107\n",
       "age_group                      0.000000\n",
       "education                      0.052683\n",
       "race                           0.000000\n",
       "sex                            0.000000\n",
       "income_poverty                 0.165612\n",
       "marital_status                 0.052720\n",
       "rent_or_own                    0.076459\n",
       "employment_status              0.054780\n",
       "hhs_geo_region                 0.000000\n",
       "census_msa                     0.000000\n",
       "household_adults               0.009323\n",
       "household_children             0.009323\n",
       "employment_industry            0.499120\n",
       "employment_occupation          0.504362\n",
       "h1n1_vaccine                   0.000000\n",
       "seasonal_vaccine               0.000000\n",
       "dtype: float64"
      ]
     },
     "execution_count": 4,
     "metadata": {},
     "output_type": "execute_result"
    }
   ],
   "source": [
    "data.isna().sum()/len(data)"
   ]
  },
  {
   "cell_type": "code",
   "execution_count": 5,
   "id": "e633bda8",
   "metadata": {},
   "outputs": [
    {
     "data": {
      "text/plain": [
       "Index(['h1n1_concern', 'h1n1_knowledge', 'behavioral_antiviral_meds',\n",
       "       'behavioral_avoidance', 'behavioral_face_mask', 'behavioral_wash_hands',\n",
       "       'behavioral_large_gatherings', 'behavioral_outside_home',\n",
       "       'behavioral_touch_face', 'doctor_recc_h1n1', 'doctor_recc_seasonal',\n",
       "       'chronic_med_condition', 'child_under_6_months', 'health_worker',\n",
       "       'health_insurance', 'opinion_h1n1_vacc_effective', 'opinion_h1n1_risk',\n",
       "       'opinion_h1n1_sick_from_vacc', 'opinion_seas_vacc_effective',\n",
       "       'opinion_seas_risk', 'opinion_seas_sick_from_vacc', 'age_group',\n",
       "       'education', 'race', 'sex', 'income_poverty', 'marital_status',\n",
       "       'rent_or_own', 'employment_status', 'hhs_geo_region', 'census_msa',\n",
       "       'household_adults', 'household_children', 'employment_industry',\n",
       "       'employment_occupation', 'h1n1_vaccine', 'seasonal_vaccine'],\n",
       "      dtype='object')"
      ]
     },
     "execution_count": 5,
     "metadata": {},
     "output_type": "execute_result"
    }
   ],
   "source": [
    "data.columns"
   ]
  },
  {
   "cell_type": "code",
   "execution_count": 6,
   "id": "4b698c11",
   "metadata": {},
   "outputs": [],
   "source": [
    "# DROP: employment_industry, employment_occupation, hhs_geo_region, census_msa\n",
    "# Note: lots of missing values for 'health_insurance', but may be useful for prediction.\n",
    "# use 'missing' for health_insurance AND income_poverty"
   ]
  },
  {
   "cell_type": "code",
   "execution_count": 7,
   "id": "7ce0f9c4",
   "metadata": {},
   "outputs": [],
   "source": [
    "drop_cols = ['respondent_id','employment_industry', 'employment_occupation', 'hhs_geo_region', 'census_msa'] # columns we will drop\n",
    "object_cols = ['behavioral_antiviral_meds','behavioral_avoidance', 'behavioral_face_mask', 'behavioral_wash_hands',\n",
    "               'behavioral_large_gatherings', 'behavioral_outside_home','behavioral_touch_face', 'doctor_recc_h1n1', \n",
    "               'doctor_recc_seasonal','chronic_med_condition', 'child_under_6_months', 'health_worker','health_insurance',\n",
    "               'race', 'sex','marital_status','rent_or_own', 'employment_status'] # columns we will one hot encode\n",
    "num_cols = ['h1n1_concern', 'h1n1_knowledge', 'opinion_h1n1_vacc_effective', 'opinion_h1n1_risk','opinion_h1n1_sick_from_vacc',\n",
    "            'opinion_seas_vacc_effective','opinion_seas_risk', 'opinion_seas_sick_from_vacc', 'household_adults', \n",
    "            'household_children'] # cols to be treated as numerical data\n",
    "num_cols_obj = ['age_group','education', 'income_poverty',] # cols to treat as numerical data (first need to be converted to integers)"
   ]
  },
  {
   "cell_type": "code",
   "execution_count": 8,
   "id": "a628eb97",
   "metadata": {},
   "outputs": [],
   "source": [
    "age_map = {'18 - 34 Years': 0,'35 - 44 Years': 1,'45 - 54 Years': 2,'55 - 64 Years': 3, '65+ Years': 4}\n",
    "education_map = {'< 12 Years': 0, '12 Years': 1, 'Some College': 2,'College Graduate': 3}\n",
    "income_map = {'Below Poverty': 0, '<= $75,000, Above Poverty': 1, '> $75,000': 2}"
   ]
  },
  {
   "cell_type": "code",
   "execution_count": 9,
   "id": "11666f6e",
   "metadata": {},
   "outputs": [],
   "source": [
    "def order_encode(df, cols, maps):\n",
    "    for i,col in enumerate(cols):\n",
    "        df[col] = df[col].replace(maps[i])\n",
    "    return df"
   ]
  },
  {
   "cell_type": "code",
   "execution_count": 10,
   "id": "a82a15b2",
   "metadata": {},
   "outputs": [],
   "source": [
    "X_train, X_test, y_train, y_test = train_test_split(X,y, test_size = 0.3)"
   ]
  },
  {
   "cell_type": "code",
   "execution_count": 11,
   "id": "c3c5d1e5",
   "metadata": {},
   "outputs": [],
   "source": [
    "def preprocess(df):\n",
    "    '''Drops irrelevant columns and encodes ordinal data.'''\n",
    "    df = df.drop(drop_cols, axis = 1)\n",
    "    df = order_encode(df, num_cols_obj, [age_map, education_map, income_map])\n",
    "    df['health_insurance'] = df['health_insurance'].fillna('missing')\n",
    "    df['health_insurance'] = df['health_insurance'].replace({0:'No', 1:'Yes'})\n",
    "    return df"
   ]
  },
  {
   "cell_type": "code",
   "execution_count": 12,
   "id": "0c5c9623",
   "metadata": {},
   "outputs": [],
   "source": [
    "X_train = preprocess(X_train)\n",
    "X_test = preprocess(X_test)"
   ]
  },
  {
   "cell_type": "code",
   "execution_count": null,
   "id": "5719ed6f",
   "metadata": {},
   "outputs": [],
   "source": []
  },
  {
   "cell_type": "code",
   "execution_count": 13,
   "id": "e77600e1",
   "metadata": {},
   "outputs": [],
   "source": [
    "obj_transformer = Pipeline([('cat_imputer', SimpleImputer(strategy = 'most_frequent')), \n",
    "                            ('cat_encoder', OneHotEncoder(drop = 'first', sparse = False))])\n",
    "num_transformer = Pipeline([('num_scaler', StandardScaler()),\n",
    "                            ('num_imputer', KNNImputer())])"
   ]
  },
  {
   "cell_type": "code",
   "execution_count": 14,
   "id": "c3e85e3c",
   "metadata": {},
   "outputs": [],
   "source": [
    "preprocessing_transformer = ColumnTransformer([('cat_transformer', obj_transformer, object_cols),\n",
    "                                    ('num_transformer', num_transformer, num_cols+num_cols_obj)])"
   ]
  },
  {
   "cell_type": "code",
   "execution_count": 15,
   "id": "2317cf7e",
   "metadata": {},
   "outputs": [],
   "source": [
    "X_train = preprocessing_transformer.fit_transform(X_train)\n",
    "X_test = preprocessing_transformer.fit_transform(X_test)"
   ]
  },
  {
   "cell_type": "markdown",
   "id": "aa2acf11",
   "metadata": {},
   "source": [
    "## Model Validation"
   ]
  },
  {
   "cell_type": "code",
   "execution_count": 16,
   "id": "ff468369",
   "metadata": {},
   "outputs": [],
   "source": [
    "from sklearn.svm import SVC\n",
    "from sklearn.neighbors import KNeighborsClassifier\n",
    "from sklearn.ensemble import RandomForestClassifier"
   ]
  },
  {
   "cell_type": "code",
   "execution_count": 17,
   "id": "317f0660",
   "metadata": {},
   "outputs": [],
   "source": [
    "y_train = y_train.drop('respondent_id', axis = 1)\n",
    "y_test = y_test.drop('respondent_id', axis = 1)"
   ]
  },
  {
   "cell_type": "code",
   "execution_count": 18,
   "id": "80c37be0",
   "metadata": {},
   "outputs": [],
   "source": [
    "#lin_model = MultiOutputClassifier(LogisticRegression()) \n",
    "#lin_model.fit(X_train,y_train)"
   ]
  },
  {
   "cell_type": "code",
   "execution_count": 19,
   "id": "dd340bd4",
   "metadata": {},
   "outputs": [],
   "source": [
    "#svc_model = MultiOutputClassifier(SVC(probability = True))\n",
    "#svc_model.fit(X_train,y_train)"
   ]
  },
  {
   "cell_type": "code",
   "execution_count": 20,
   "id": "4b3016b9",
   "metadata": {},
   "outputs": [],
   "source": [
    "#knn_model = KNeighborsClassifier(n_neighbors = 50)\n",
    "#knn_model.fit(X_train,y_train)"
   ]
  },
  {
   "cell_type": "code",
   "execution_count": 21,
   "id": "ca840fb0",
   "metadata": {},
   "outputs": [
    {
     "data": {
      "text/plain": [
       "RandomForestClassifier()"
      ]
     },
     "execution_count": 21,
     "metadata": {},
     "output_type": "execute_result"
    }
   ],
   "source": [
    "random_forest = RandomForestClassifier()\n",
    "random_forest.fit(X_train,y_train)"
   ]
  },
  {
   "cell_type": "code",
   "execution_count": 22,
   "id": "271ab5a7",
   "metadata": {},
   "outputs": [],
   "source": [
    "preds = random_forest.predict_proba(X_test)"
   ]
  },
  {
   "cell_type": "code",
   "execution_count": 23,
   "id": "e7e84cc7",
   "metadata": {},
   "outputs": [],
   "source": [
    "h1n1_preds = preds[0][:,1]\n",
    "seasonal_preds = preds[1][:,1]\n",
    "\n",
    "y_h1n1 = np.array(y_test.iloc[:,0])\n",
    "y_seasonal = np.array(y_test.iloc[:,1])"
   ]
  },
  {
   "cell_type": "code",
   "execution_count": 24,
   "id": "172b8d3c",
   "metadata": {},
   "outputs": [],
   "source": [
    "h1n1_fpr, h1n1_tpr, h1n1_thresholds = roc_curve(y_h1n1, h1n1_preds)\n",
    "baseline_h1n1_auc = auc(h1n1_fpr, h1n1_tpr)\n",
    "sea_fpr, sea_tpr, sea_thresholds = roc_curve(y_seasonal, seasonal_preds)\n",
    "baseline_sea_auc = auc(sea_fpr, sea_tpr)"
   ]
  },
  {
   "cell_type": "code",
   "execution_count": 28,
   "id": "c7520119",
   "metadata": {},
   "outputs": [
    {
     "data": {
      "image/png": "[encoded data removed]",
      "text/plain": [
       "<Figure size 432x288 with 1 Axes>"
      ]
     },
     "metadata": {
      "needs_background": "light"
     },
     "output_type": "display_data"
    },
    {
     "data": {
      "image/png": "[encoded data removed]",
      "text/plain": [
       "<Figure size 432x288 with 1 Axes>"
      ]
     },
     "metadata": {
      "needs_background": "light"
     },
     "output_type": "display_data"
    }
   ],
   "source": [
    "display = RocCurveDisplay(fpr = h1n1_fpr, tpr = h1n1_tpr, roc_auc = baseline_h1n1_auc,estimator_name = 'Baseline Model (h1n1)')\n",
    "display.plot()\n",
    "plt.show()\n",
    "\n",
    "\n",
    "display = RocCurveDisplay(fpr = sea_fpr, tpr = sea_tpr, roc_auc = baseline_sea_auc,estimator_name = 'Baseline Model (seasonal)')\n",
    "display.plot()\n",
    "plt.show()"
   ]
  },
  {
   "cell_type": "code",
   "execution_count": null,
   "id": "a4b8f6fc",
   "metadata": {},
   "outputs": [],
   "source": []
  },
  {
   "cell_type": "code",
   "execution_count": null,
   "id": "78cbeb93",
   "metadata": {},
   "outputs": [],
   "source": []
  },
  {
   "cell_type": "code",
   "execution_count": null,
   "id": "eba7cae8",
   "metadata": {},
   "outputs": [],
   "source": []
  }
 ],
 "metadata": {
  "kernelspec": {
   "display_name": "Python 3 (ipykernel)",
   "language": "python",
   "name": "python3"
  },
  "language_info": {
   "codemirror_mode": {
    "name": "ipython",
    "version": 3
   },
   "file_extension": ".py",
   "mimetype": "text/x-python",
   "name": "python",
   "nbconvert_exporter": "python",
   "pygments_lexer": "ipython3",
   "version": "3.8.5"
  }
 },
 "nbformat": 4,
 "nbformat_minor": 5
}
